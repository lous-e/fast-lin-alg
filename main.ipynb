{
    "cells": [
        {
            "cell_type": "code",
            "execution_count": 1,
            "metadata": {
                "id": "KmnOPlm1_Zdd"
            },
            "outputs": [],
            "source": [
                "import networkx as nx\n",
                "import matplotlib.pyplot as plt\n",
                "from scipy.sparse import csr_matrix\n",
                "import pandas as pd\n",
                "import numpy as np\n",
                "import random\n",
                "import time\n",
                "import csv\n",
                "import math\n",
                "import bisect\n",
                "import random\n",
                "from collections import Counter\n",
                "from collections.abc import Sequence\n",
                "import time"
            ]
        },
        {
            "cell_type": "code",
            "execution_count": 4,
            "metadata": {
                "id": "7_A_3AvUxW08"
            },
            "outputs": [],
            "source": [
                "def exact_netx(graph):\n",
                "  start = time.time()\n",
                "  t = sum(nx.triangles(graph).values())/3\n",
                "  end = time.time()\n",
                "  return {\"triangles\": t, \"time\": end - start}"
            ]
        },
        {
            "cell_type": "code",
            "execution_count": 3,
            "metadata": {
                "id": "huHhqhPQN86t"
            },
            "outputs": [],
            "source": [
                "def exact_trace(graph):\n",
                "  start = time.time()\n",
                "  adj_matrix = nx.adjacency_matrix(graph, dtype = np.float64)\n",
                "  adj_matrix_cubed = adj_matrix @ adj_matrix @ adj_matrix\n",
                "  print(adj_matrix_cubed.trace())\n",
                "  t = adj_matrix_cubed.trace()/6\n",
                "  end = time.time()\n",
                "  return {\"triangles\": t, \"time\": end - start}"
            ]
        },
        {
            "cell_type": "code",
            "execution_count": 4,
            "metadata": {
                "id": "FtTYYA63qt6P"
            },
            "outputs": [],
            "source": [
                "def uniform_sampling(graph, sample_size):\n",
                "  start = time.time()\n",
                "  nodes = list(graph.nodes)\n",
                "  n = len(nodes)\n",
                "  node_sample = random.sample(nodes, sample_size)\n",
                "  sample_t = 0\n",
                "  for node in node_sample:\n",
                "    sample_t += nx.triangles(graph, node)\n",
                "  sample_t /= 3\n",
                "  t = sample_t*n/sample_size\n",
                "  end = time.time()\n",
                "  return {\"triangles\": t, \"time\": end - start}"
            ]
        },
        {
            "cell_type": "code",
            "execution_count": 5,
            "metadata": {
                "id": "NCJYKqJxChh5"
            },
            "outputs": [],
            "source": [
                "def random_sampling_with_degrees(graph, sample_size):\n",
                "  start = time.time()\n",
                "  nodes,degrees=zip(*graph.degree())\n",
                "  sum_of_degrees=sum(degrees)\n",
                "  node_sample = random.choices(nodes, weights = degrees, k = sample_size)\n",
                "  sample_t = 0\n",
                "  for node in node_sample:\n",
                "    sample_t += nx.triangles(graph, node)/graph.degree(node)\n",
                "  t = (sample_t*sum_of_degrees/3)*(1/sample_size)\n",
                "  end = time.time()\n",
                "  return {\"triangles\": t, \"time\": end - start}\n",
                "\n",
                " "
            ]
        },
        {
            "cell_type": "code",
            "execution_count": 6,
            "metadata": {},
            "outputs": [],
            "source": [
                "def random_sampling_without_replacement(graph, sample_size):\n",
                "  start = time.time()\n",
                "  nodes,degrees=zip(*graph.degree())\n",
                "  sum_of_degrees=sum(degrees)\n",
                "  node_sample = weighted_sample(nodes, weights = degrees, k = sample_size)\n",
                "  sample_t = 0\n",
                "  for node in node_sample:\n",
                "    sample_t += nx.triangles(graph, node)/graph.degree(node)\n",
                "  t = (sample_t*sum_of_degrees/3)*(1/sample_size)\n",
                "  end = time.time()\n",
                "  return {\"triangles\": t, \"time\": end - start}\n",
                "\n",
                "def weighted_sample(population, weights, k):\n",
                "    return random.sample(WeightedPopulation(population, weights), k)\n",
                "\n",
                "class WeightedPopulation(Sequence):\n",
                "    def __init__(self, population, weights):\n",
                "        assert len(population) == len(weights) > 0\n",
                "        self.population = population\n",
                "        self.cumweights = []\n",
                "        cumsum = 0 # compute cumulative weight\n",
                "        for w in weights:\n",
                "            cumsum += w   \n",
                "            self.cumweights.append(cumsum)  \n",
                "    def __len__(self):\n",
                "        return self.cumweights[-1]\n",
                "    def __getitem__(self, i):\n",
                "        if not 0 <= i < len(self):\n",
                "            raise IndexError(i)\n",
                "        return self.population[bisect.bisect(self.cumweights, i)]\n",
                "  "
            ]
        },
        {
            "cell_type": "code",
            "execution_count": 7,
            "metadata": {},
            "outputs": [],
            "source": [
                "#alpha exact first\n",
                "def alpha_exact(graph):\n",
                "  degrees=[]\n",
                "  triangles=[]\n",
                "  for node in graph:\n",
                "    degree=graph.degree(node)\n",
                "    degree=0 if degree<=1 else math.log(degree)\n",
                "    triangle=nx.triangles(graph,node)\n",
                "    triangle=0 if triangle<=1 else math.log(triangle)\n",
                "    degrees.append(degree)\n",
                "    triangles.append(triangle)\n",
                "\n",
                "  degrees=np.array(degrees)\n",
                "  triangles=np.array(triangles)\n",
                "  b, a = np.polyfit(degrees, triangles, deg=1)\n",
                "  return b\n",
                "\n",
                "#estimate alpha by uniform_sampling\n",
                "def alpha_uniform(graph,k):\n",
                "  start=time.time()\n",
                "  degrees=[]\n",
                "  triangles=[]\n",
                "  nodes = list(graph.nodes)\n",
                "  n = len(nodes)\n",
                "  sample_size=math.floor(k*n)\n",
                "  node_sample = random.sample(nodes, sample_size)\n",
                "  for node in node_sample:\n",
                "    degree=graph.degree(node)\n",
                "    degree=0 if degree<=1 else math.log(degree)\n",
                "    triangle=nx.triangles(graph,node)\n",
                "    triangle=0 if triangle<=1 else math.log(triangle)\n",
                "    degrees.append(degree)\n",
                "    triangles.append(triangle)\n",
                "\n",
                "  degrees=np.array(degrees)\n",
                "  triangles=np.array(triangles)\n",
                "  b, a = np.polyfit(degrees, triangles, deg=1)\n",
                "  end=time.time()\n",
                "  return [b,end-start]\n",
                "\n",
                "def alpha_degree(graph,k):\n",
                "  start=time.time()\n",
                "  degrees=[]\n",
                "  triangles=[]\n",
                "  sorted_nodes = sorted(graph.degree, key=lambda x: x[1], reverse=True)\n",
                "  num_nodes = len(sorted_nodes)\n",
                "  third = num_nodes // 3  # Integer division to get roughly equal parts\n",
                "  list1 = sorted_nodes[:third]\n",
                "  list2 = sorted_nodes[third:2 * third]\n",
                "  list3 = sorted_nodes[2 * third:]\n",
                "  sample_size=math.floor(k*third)\n",
                "  node_sample_1 = random.sample(list1, sample_size)\n",
                "  node_sample_2=random.sample(list2, sample_size)\n",
                "  node_sample_3=random.sample(list3,sample_size)\n",
                "  node_samples=node_sample_1+node_sample_2+node_sample_3\n",
                "  for node,degree in node_samples:\n",
                "    degree=0 if degree<=1 else math.log(degree)\n",
                "    triangle=nx.triangles(graph,node)\n",
                "    triangle=0 if triangle<=1 else math.log(triangle)\n",
                "    degrees.append(degree)\n",
                "    triangles.append(triangle)\n",
                "\n",
                "  degrees=np.array(degrees)\n",
                "  triangles=np.array(triangles)\n",
                "  b, a = np.polyfit(degrees, triangles, deg=1)\n",
                "  end=time.time()\n",
                "  return [b,end-start,a]\n",
                "\n"
            ]
        },
        {
            "cell_type": "code",
            "execution_count": 8,
            "metadata": {},
            "outputs": [
                {
                    "name": "stdout",
                    "output_type": "stream",
                    "text": [
                        " rel_error: 0.2971714044134503% and time:0.13824305534362794 for sample_size 0.05 in alpha_degree\n"
                    ]
                }
            ],
            "source": [
                "fb_graph = nx.read_edgelist('facebook_combined.txt', create_using=nx.Graph(), nodetype=int)\n",
                "def alpha_testing(algo,sample_size):\n",
                "    slope=1.922923152268316\n",
                "    time=0\n",
                "    alpha=0\n",
                "    for i in range(0,10):\n",
                "        l=algo(fb_graph,sample_size)\n",
                "        alpha+=l[0]\n",
                "        time+=l[1]\n",
                "    time=time/10\n",
                "    alpha=alpha/10\n",
                "    rel_error=abs(alpha-slope)/slope\n",
                "    algo_name=algo.__name__\n",
                "    print(f\" rel_error: {rel_error*100}% and time:{time} for sample_size {sample_size} in {algo_name}\")\n",
                "alpha_testing(alpha_degree,0.05)"
            ]
        },
        {
            "cell_type": "code",
            "execution_count": 15,
            "metadata": {},
            "outputs": [],
            "source": [
                "def polynomial_sampling(graph,sample_size):\n",
                " start = time.time()\n",
                " nodes=[]\n",
                " degrees=[]\n",
                " alpha=alpha_degree(graph,0.05)[0]\n",
                " sum_of_degrees=0\n",
                " for node in graph:\n",
                "   nodes.append(node)\n",
                "   degree=graph.degree(node)**alpha\n",
                "   degrees.append(graph.degree(node)**alpha)\n",
                "   sum_of_degrees+=degree\n",
                "   \n",
                " node_sample = random.choices(nodes, weights = degrees, k = sample_size)\n",
                " sample_t = 0\n",
                " for node in node_sample:\n",
                "    sample_t += nx.triangles(graph, node)/graph.degree(node)**alpha\n",
                "    \n",
                " t = (sample_t*sum_of_degrees/3)*(1/sample_size)\n",
                " end = time.time()\n",
                " return {\"triangles\": t, \"time\": end - start}\n",
                " \n",
                " \n",
                "def variance_reduction(graph,sample_size):\n",
                " start = time.time()\n",
                " nodes=[]\n",
                " degrees=[]\n",
                " alpha_result=alpha_degree(graph,0.05)\n",
                " alpha=alpha_result[0]\n",
                " factor=math.e**alpha_result[2]\n",
                " degree_alpha_sum=0\n",
                " for node in graph:\n",
                "   nodes.append(node)\n",
                "   degree=graph.degree(node)**alpha\n",
                "   degrees.append(degree)\n",
                "   degree_alpha_sum+=degree\n",
                " n=len(nodes)\n",
                " degree_alpha_sum/=3\n",
                " node_sample = random.choices(nodes,weights=degrees,k=sample_size)\n",
                " sample_diff = 0\n",
                " for node in node_sample:\n",
                "    sample_diff += (nx.triangles(graph, node)-factor*(graph.degree(node)**alpha))\n",
                " diff=(n/3*sample_size)*sample_diff\n",
                " t = diff+degree_alpha_sum*factor\n",
                " end=time.time()\n",
                " return {\"triangles\": t, \"time\": end - start}"
            ]
        },
        {
            "cell_type": "code",
            "execution_count": 10,
            "metadata": {},
            "outputs": [],
            "source": [
                "def hutch(graph, trials):\n",
                "    start = time.time()\n",
                "    adj = nx.adjacency_matrix(graph, dtype = np.float64)\n",
                "    adj = adj.toarray()\n",
                "    d = adj.shape[0]\n",
                "    total = 0\n",
                "    for _ in range(trials):\n",
                "        v = np.random.choice([-1,1], d)\n",
                "        tr = np.transpose(v) @ (adj @ (adj @ (adj @ v)))\n",
                "        total += tr\n",
                "    total/=trials\n",
                "    end = time.time()\n",
                "    return {\"triangles\" : total/6, \"time\": end-start, \"trials\": trials}"
            ]
        },
        {
            "cell_type": "code",
            "execution_count": 11,
            "metadata": {},
            "outputs": [],
            "source": [
                "def hutchplusplus(graph, queries):\n",
                "    start = time.time()\n",
                "    A = nx.adjacency_matrix(graph, dtype = np.float64)\n",
                "    d = A.shape[0]\n",
                "    source = [1, -1]\n",
                "    S = np.random.choice(source, (d, queries//3))\n",
                "    G = np.random.choice(source, (d, queries//3))\n",
                "    def mult(x):\n",
                "        return A @ (A @ (A @ x))\n",
                "    Q, R = np.linalg.qr(mult(S))\n",
                "    term_1 = np.trace(Q.T @ mult(Q))\n",
                "    term_prod = G - Q @ (Q.T @ G)\n",
                "    term_2 = 3/queries*np.trace(term_prod.T @ mult(term_prod))\n",
                "    t = term_1/6 + term_2/6\n",
                "    end = time.time()\n",
                "    return {\"triangles\": t, \"time\": end - start}"
            ]
        },
        {
            "cell_type": "code",
            "execution_count": 12,
            "metadata": {},
            "outputs": [
                {
                    "ename": "KeyboardInterrupt",
                    "evalue": "",
                    "output_type": "error",
                    "traceback": [
                        "\u001b[1;31m---------------------------------------------------------------------------\u001b[0m",
                        "\u001b[1;31mKeyboardInterrupt\u001b[0m                         Traceback (most recent call last)",
                        "Cell \u001b[1;32mIn[12], line 9\u001b[0m\n\u001b[0;32m      7\u001b[0m rel_error \u001b[38;5;241m=\u001b[39m runtime \u001b[38;5;241m=\u001b[39m \u001b[38;5;241m0\u001b[39m\n\u001b[0;32m      8\u001b[0m \u001b[38;5;28;01mfor\u001b[39;00m i \u001b[38;5;129;01min\u001b[39;00m \u001b[38;5;28mrange\u001b[39m(\u001b[38;5;241m10\u001b[39m):\n\u001b[1;32m----> 9\u001b[0m     outcome \u001b[38;5;241m=\u001b[39m \u001b[43mhutchplusplus\u001b[49m\u001b[43m(\u001b[49m\u001b[43mfb_graph\u001b[49m\u001b[43m,\u001b[49m\u001b[43m \u001b[49m\u001b[43m(\u001b[49m\u001b[43mnum_queries\u001b[49m\u001b[38;5;241;43m+\u001b[39;49m\u001b[38;5;241;43m1\u001b[39;49m\u001b[43m)\u001b[49m\u001b[38;5;241;43m*\u001b[39;49m\u001b[38;5;241;43m3\u001b[39;49m\u001b[43m)\u001b[49m\n\u001b[0;32m     10\u001b[0m     rel_error \u001b[38;5;241m+\u001b[39m\u001b[38;5;241m=\u001b[39m np\u001b[38;5;241m.\u001b[39mabs((outcome[\u001b[38;5;124m'\u001b[39m\u001b[38;5;124mtriangles\u001b[39m\u001b[38;5;124m'\u001b[39m] \u001b[38;5;241m-\u001b[39m exact_count)\u001b[38;5;241m/\u001b[39mexact_count)\n\u001b[0;32m     11\u001b[0m     runtime \u001b[38;5;241m+\u001b[39m\u001b[38;5;241m=\u001b[39m outcome[\u001b[38;5;124m'\u001b[39m\u001b[38;5;124mtime\u001b[39m\u001b[38;5;124m'\u001b[39m]\n",
                        "Cell \u001b[1;32mIn[11], line 3\u001b[0m, in \u001b[0;36mhutchplusplus\u001b[1;34m(graph, queries)\u001b[0m\n\u001b[0;32m      1\u001b[0m \u001b[38;5;28;01mdef\u001b[39;00m \u001b[38;5;21mhutchplusplus\u001b[39m(graph, queries):\n\u001b[0;32m      2\u001b[0m     start \u001b[38;5;241m=\u001b[39m time\u001b[38;5;241m.\u001b[39mtime()\n\u001b[1;32m----> 3\u001b[0m     A \u001b[38;5;241m=\u001b[39m \u001b[43mnx\u001b[49m\u001b[38;5;241;43m.\u001b[39;49m\u001b[43madjacency_matrix\u001b[49m\u001b[43m(\u001b[49m\u001b[43mgraph\u001b[49m\u001b[43m,\u001b[49m\u001b[43m \u001b[49m\u001b[43mdtype\u001b[49m\u001b[43m \u001b[49m\u001b[38;5;241;43m=\u001b[39;49m\u001b[43m \u001b[49m\u001b[43mnp\u001b[49m\u001b[38;5;241;43m.\u001b[39;49m\u001b[43mfloat64\u001b[49m\u001b[43m)\u001b[49m\n\u001b[0;32m      4\u001b[0m     d \u001b[38;5;241m=\u001b[39m A\u001b[38;5;241m.\u001b[39mshape[\u001b[38;5;241m0\u001b[39m]\n\u001b[0;32m      5\u001b[0m     source \u001b[38;5;241m=\u001b[39m [\u001b[38;5;241m1\u001b[39m, \u001b[38;5;241m-\u001b[39m\u001b[38;5;241m1\u001b[39m]\n",
                        "File \u001b[1;32mc:\\Users\\riddh\\AppData\\Local\\Programs\\Python\\Python310\\lib\\site-packages\\networkx\\utils\\backends.py:412\u001b[0m, in \u001b[0;36m_dispatch.__call__\u001b[1;34m(self, backend, *args, **kwargs)\u001b[0m\n\u001b[0;32m    409\u001b[0m \u001b[38;5;28;01mdef\u001b[39;00m \u001b[38;5;21m__call__\u001b[39m(\u001b[38;5;28mself\u001b[39m, \u001b[38;5;241m/\u001b[39m, \u001b[38;5;241m*\u001b[39margs, backend\u001b[38;5;241m=\u001b[39m\u001b[38;5;28;01mNone\u001b[39;00m, \u001b[38;5;241m*\u001b[39m\u001b[38;5;241m*\u001b[39mkwargs):\n\u001b[0;32m    410\u001b[0m     \u001b[38;5;28;01mif\u001b[39;00m \u001b[38;5;129;01mnot\u001b[39;00m backends:\n\u001b[0;32m    411\u001b[0m         \u001b[38;5;66;03m# Fast path if no backends are installed\u001b[39;00m\n\u001b[1;32m--> 412\u001b[0m         \u001b[38;5;28;01mreturn\u001b[39;00m \u001b[38;5;28mself\u001b[39m\u001b[38;5;241m.\u001b[39morig_func(\u001b[38;5;241m*\u001b[39margs, \u001b[38;5;241m*\u001b[39m\u001b[38;5;241m*\u001b[39mkwargs)\n\u001b[0;32m    414\u001b[0m     \u001b[38;5;66;03m# Use `backend_name` in this function instead of `backend`\u001b[39;00m\n\u001b[0;32m    415\u001b[0m     backend_name \u001b[38;5;241m=\u001b[39m backend\n",
                        "File \u001b[1;32mc:\\Users\\riddh\\AppData\\Local\\Programs\\Python\\Python310\\lib\\site-packages\\networkx\\linalg\\graphmatrix.py:166\u001b[0m, in \u001b[0;36madjacency_matrix\u001b[1;34m(G, nodelist, dtype, weight)\u001b[0m\n\u001b[0;32m    107\u001b[0m \u001b[38;5;129m@nx\u001b[39m\u001b[38;5;241m.\u001b[39m_dispatch(edge_attrs\u001b[38;5;241m=\u001b[39m\u001b[38;5;124m\"\u001b[39m\u001b[38;5;124mweight\u001b[39m\u001b[38;5;124m\"\u001b[39m)\n\u001b[0;32m    108\u001b[0m \u001b[38;5;28;01mdef\u001b[39;00m \u001b[38;5;21madjacency_matrix\u001b[39m(G, nodelist\u001b[38;5;241m=\u001b[39m\u001b[38;5;28;01mNone\u001b[39;00m, dtype\u001b[38;5;241m=\u001b[39m\u001b[38;5;28;01mNone\u001b[39;00m, weight\u001b[38;5;241m=\u001b[39m\u001b[38;5;124m\"\u001b[39m\u001b[38;5;124mweight\u001b[39m\u001b[38;5;124m\"\u001b[39m):\n\u001b[0;32m    109\u001b[0m \u001b[38;5;250m    \u001b[39m\u001b[38;5;124;03m\"\"\"Returns adjacency matrix of G.\u001b[39;00m\n\u001b[0;32m    110\u001b[0m \n\u001b[0;32m    111\u001b[0m \u001b[38;5;124;03m    Parameters\u001b[39;00m\n\u001b[1;32m   (...)\u001b[0m\n\u001b[0;32m    164\u001b[0m \u001b[38;5;124;03m    adjacency_spectrum\u001b[39;00m\n\u001b[0;32m    165\u001b[0m \u001b[38;5;124;03m    \"\"\"\u001b[39;00m\n\u001b[1;32m--> 166\u001b[0m     \u001b[38;5;28;01mreturn\u001b[39;00m \u001b[43mnx\u001b[49m\u001b[38;5;241;43m.\u001b[39;49m\u001b[43mto_scipy_sparse_array\u001b[49m\u001b[43m(\u001b[49m\u001b[43mG\u001b[49m\u001b[43m,\u001b[49m\u001b[43m \u001b[49m\u001b[43mnodelist\u001b[49m\u001b[38;5;241;43m=\u001b[39;49m\u001b[43mnodelist\u001b[49m\u001b[43m,\u001b[49m\u001b[43m \u001b[49m\u001b[43mdtype\u001b[49m\u001b[38;5;241;43m=\u001b[39;49m\u001b[43mdtype\u001b[49m\u001b[43m,\u001b[49m\u001b[43m \u001b[49m\u001b[43mweight\u001b[49m\u001b[38;5;241;43m=\u001b[39;49m\u001b[43mweight\u001b[49m\u001b[43m)\u001b[49m\n",
                        "File \u001b[1;32mc:\\Users\\riddh\\AppData\\Local\\Programs\\Python\\Python310\\lib\\site-packages\\networkx\\utils\\backends.py:412\u001b[0m, in \u001b[0;36m_dispatch.__call__\u001b[1;34m(self, backend, *args, **kwargs)\u001b[0m\n\u001b[0;32m    409\u001b[0m \u001b[38;5;28;01mdef\u001b[39;00m \u001b[38;5;21m__call__\u001b[39m(\u001b[38;5;28mself\u001b[39m, \u001b[38;5;241m/\u001b[39m, \u001b[38;5;241m*\u001b[39margs, backend\u001b[38;5;241m=\u001b[39m\u001b[38;5;28;01mNone\u001b[39;00m, \u001b[38;5;241m*\u001b[39m\u001b[38;5;241m*\u001b[39mkwargs):\n\u001b[0;32m    410\u001b[0m     \u001b[38;5;28;01mif\u001b[39;00m \u001b[38;5;129;01mnot\u001b[39;00m backends:\n\u001b[0;32m    411\u001b[0m         \u001b[38;5;66;03m# Fast path if no backends are installed\u001b[39;00m\n\u001b[1;32m--> 412\u001b[0m         \u001b[38;5;28;01mreturn\u001b[39;00m \u001b[38;5;28mself\u001b[39m\u001b[38;5;241m.\u001b[39morig_func(\u001b[38;5;241m*\u001b[39margs, \u001b[38;5;241m*\u001b[39m\u001b[38;5;241m*\u001b[39mkwargs)\n\u001b[0;32m    414\u001b[0m     \u001b[38;5;66;03m# Use `backend_name` in this function instead of `backend`\u001b[39;00m\n\u001b[0;32m    415\u001b[0m     backend_name \u001b[38;5;241m=\u001b[39m backend\n",
                        "File \u001b[1;32mc:\\Users\\riddh\\AppData\\Local\\Programs\\Python\\Python310\\lib\\site-packages\\networkx\\convert_matrix.py:598\u001b[0m, in \u001b[0;36mto_scipy_sparse_array\u001b[1;34m(G, nodelist, dtype, weight, format)\u001b[0m\n\u001b[0;32m    594\u001b[0m \u001b[38;5;28;01mexcept\u001b[39;00m \u001b[38;5;167;01mValueError\u001b[39;00m:\n\u001b[0;32m    595\u001b[0m     \u001b[38;5;66;03m# there is no edge in the subgraph\u001b[39;00m\n\u001b[0;32m    596\u001b[0m     row, col, data \u001b[38;5;241m=\u001b[39m [], [], []\n\u001b[1;32m--> 598\u001b[0m \u001b[38;5;28;01mif\u001b[39;00m \u001b[43mG\u001b[49m\u001b[38;5;241;43m.\u001b[39;49m\u001b[43mis_directed\u001b[49m\u001b[43m(\u001b[49m\u001b[43m)\u001b[49m:\n\u001b[0;32m    599\u001b[0m     A \u001b[38;5;241m=\u001b[39m sp\u001b[38;5;241m.\u001b[39msparse\u001b[38;5;241m.\u001b[39mcoo_array((data, (row, col)), shape\u001b[38;5;241m=\u001b[39m(nlen, nlen), dtype\u001b[38;5;241m=\u001b[39mdtype)\n\u001b[0;32m    600\u001b[0m \u001b[38;5;28;01melse\u001b[39;00m:\n\u001b[0;32m    601\u001b[0m     \u001b[38;5;66;03m# symmetrize matrix\u001b[39;00m\n",
                        "File \u001b[1;32mc:\\Users\\riddh\\AppData\\Local\\Programs\\Python\\Python310\\lib\\site-packages\\networkx\\classes\\graph.py:1557\u001b[0m, in \u001b[0;36mGraph.is_directed\u001b[1;34m(self)\u001b[0m\n\u001b[0;32m   1554\u001b[0m \u001b[38;5;250m    \u001b[39m\u001b[38;5;124;03m\"\"\"Returns True if graph is a multigraph, False otherwise.\"\"\"\u001b[39;00m\n\u001b[0;32m   1555\u001b[0m     \u001b[38;5;28;01mreturn\u001b[39;00m \u001b[38;5;28;01mFalse\u001b[39;00m\n\u001b[1;32m-> 1557\u001b[0m \u001b[38;5;28;01mdef\u001b[39;00m \u001b[38;5;21mis_directed\u001b[39m(\u001b[38;5;28mself\u001b[39m):\n\u001b[0;32m   1558\u001b[0m \u001b[38;5;250m    \u001b[39m\u001b[38;5;124;03m\"\"\"Returns True if graph is directed, False otherwise.\"\"\"\u001b[39;00m\n\u001b[0;32m   1559\u001b[0m     \u001b[38;5;28;01mreturn\u001b[39;00m \u001b[38;5;28;01mFalse\u001b[39;00m\n",
                        "\u001b[1;31mKeyboardInterrupt\u001b[0m: "
                    ]
                }
            ],
            "source": [
                "fb_graph = nx.read_edgelist('facebook_combined.txt', create_using=nx.Graph(), nodetype=int)\n",
                "mq = 150\n",
                "errors = np.zeros(mq)\n",
                "runtimes = np.zeros(mq)\n",
                "exact_count = exact_netx(fb_graph)['triangles']\n",
                "for num_queries in range(mq):\n",
                "    rel_error = runtime = 0\n",
                "    for i in range(10):\n",
                "        outcome = hutchplusplus(fb_graph, (num_queries+1)*3)\n",
                "        rel_error += np.abs((outcome['triangles'] - exact_count)/exact_count)\n",
                "        runtime += outcome['time']\n",
                "    errors[num_queries] = rel_error/10\n",
                "    runtimes[num_queries] = runtime/10\n",
                "print(runtimes)\n",
                "print(errors)\n",
                "plt.scatter(runtimes, errors*100)\n",
                "plt.xlabel('runtimes')\n",
                "plt.ylabel('relative-error')\n",
                "plt.title('relative-error vs runtimes')"
            ]
        },
        {
            "cell_type": "code",
            "execution_count": null,
            "metadata": {},
            "outputs": [],
            "source": [
                "# def lanczos(A, m):\n",
                "#     n = A.shape[0]\n",
                "#     v = [np.random.rand(n)]\n",
                "#     w_prime = [A @ v[0]]\n",
                "#     alpha = [w_prime[0] * v[0]]\n",
                "#     beta = []\n",
                "#     w = [w_prime[0] - alpha[0] @ v[0]]\n",
                "#     for j in range(2, m + 1):\n",
                "#         beta_j = np.linalg.norm(w[-1])\n",
                "#         beta.push(beta_j)\n",
                "#         if beta_j != 0:\n",
                "#             v_j = w[-1]/beta_j\n",
                "#         else:\n",
                "#             v_j = #TODO\n",
                "#         v.push(v_j)\n",
                "#         w_prime.push(A @ v[-1])\n",
                "#         alpha.push(w_prime[-1]*v[-1])"
            ]
        },
        {
            "cell_type": "code",
            "execution_count": null,
            "metadata": {},
            "outputs": [],
            "source": [
                "# def eigenTriangle(graph, sample_size, tol):\n",
                "#   adj_matrix = nx.adjacency_matrix(graph, dtype = np.float64)\n",
                "#   nodes = list(graph.nodes)\n",
                "#   n = len(nodes)\n",
                "#   node_sample = random.sample(nodes, sample_size)\n",
                "#   for node in node_sample:\n",
                "#     lambda_1 = lanczos(A, 1)\n",
                "#     eigen = lambda_1\n",
                "#     i = 2"
            ]
        },
        {
            "cell_type": "code",
            "execution_count": null,
            "metadata": {
                "colab": {
                    "base_uri": "https://localhost:8080/",
                    "height": 363
                },
                "id": "XrnWGrP0wsFt",
                "outputId": "54b1b649-671f-4d58-9309-ca178f24dc5c"
            },
            "outputs": [
                {
                    "name": "stdout",
                    "output_type": "stream",
                    "text": [
                        "{'triangles': 1612010.0, 'time': 0.6746501922607422}\n"
                    ]
                }
            ],
            "source": [
                "fb = nx.read_edgelist('facebook_combined.txt', create_using = nx.Graph(), nodetype = int)\n",
                "nnodes_fb = fb.number_of_nodes()\n",
                "ntriangles = nx.triangles(fb, 0)\n",
                "exact_networkx_metrics = exact_netx(fb)\n",
                "print(exact_networkx_metrics)\n",
                "# hutch_count = hutch(fb)\n",
                "# print(hutch_count)\n",
                "# exact_trace_metrics = exact_trace(fb)\n",
                "# print(exact_trace_metrics)\n",
                "\n",
                "# uniform_sampling_metrics = uniform_sampling(fb, 404)\n",
                "# print(uniform_sampling_metrics)\n",
                "# rel_error = abs(ntriangles - uniform_sampling_metrics['triangles'])/ntriangles\n",
                "# print(rel_error)"
            ]
        },
        {
            "cell_type": "code",
            "execution_count": null,
            "metadata": {
                "colab": {
                    "base_uri": "https://localhost:8080/",
                    "height": 232
                },
                "id": "yXBKCWMtaj3g",
                "outputId": "a086eb17-679c-4a24-de16-13795aee77b8"
            },
            "outputs": [],
            "source": [
                "def repeat_weighted(n):\n",
                "    for i in range(n):\n",
                "        weighted_sampling_metrics = random_sampling_with_degrees(fb, 404)\n",
                "        print(weighted_sampling_metrics)\n",
                "        rel_error = abs(ntriangles - weighted_sampling_metrics['triangles'])/ntriangles\n",
                "        print(rel_error)"
            ]
        },
        {
            "cell_type": "code",
            "execution_count": 18,
            "metadata": {},
            "outputs": [
                {
                    "name": "stdout",
                    "output_type": "stream",
                    "text": [
                        "Exact NetworkX Triangles: 727044.0, Time: 1.4483375549316406s\n",
                        "Trial 0 for polynomial_sampling with Sample Size: 1834\n",
                        "Trial 0 for polynomial_sampling with Sample Size: 3669\n",
                        "Trial 0 for polynomial_sampling with Sample Size: 5503\n",
                        "Trial 0 for polynomial_sampling with Sample Size: 7338\n",
                        "Trial 0 for polynomial_sampling with Sample Size: 9173\n",
                        "Trial 0 for polynomial_sampling with Sample Size: 11007\n",
                        "Trial 0 for polynomial_sampling with Sample Size: 12842\n",
                        "Trial 0 for polynomial_sampling with Sample Size: 14676\n",
                        "Trial 0 for polynomial_sampling with Sample Size: 16511\n",
                        "Trial 0 for polynomial_sampling with Sample Size: 18346\n",
                        "Trial 1 for polynomial_sampling with Sample Size: 1834\n",
                        "Trial 1 for polynomial_sampling with Sample Size: 3669\n",
                        "Trial 1 for polynomial_sampling with Sample Size: 5503\n",
                        "Trial 1 for polynomial_sampling with Sample Size: 7338\n",
                        "Trial 1 for polynomial_sampling with Sample Size: 9173\n",
                        "Trial 1 for polynomial_sampling with Sample Size: 11007\n",
                        "Trial 1 for polynomial_sampling with Sample Size: 12842\n",
                        "Trial 1 for polynomial_sampling with Sample Size: 14676\n",
                        "Trial 1 for polynomial_sampling with Sample Size: 16511\n",
                        "Trial 1 for polynomial_sampling with Sample Size: 18346\n",
                        "Trial 2 for polynomial_sampling with Sample Size: 1834\n",
                        "Trial 2 for polynomial_sampling with Sample Size: 3669\n",
                        "Trial 2 for polynomial_sampling with Sample Size: 5503\n",
                        "Trial 2 for polynomial_sampling with Sample Size: 7338\n",
                        "Trial 2 for polynomial_sampling with Sample Size: 9173\n",
                        "Trial 2 for polynomial_sampling with Sample Size: 11007\n",
                        "Trial 2 for polynomial_sampling with Sample Size: 12842\n",
                        "Trial 2 for polynomial_sampling with Sample Size: 14676\n",
                        "Trial 2 for polynomial_sampling with Sample Size: 16511\n",
                        "Trial 2 for polynomial_sampling with Sample Size: 18346\n",
                        "Trial 3 for polynomial_sampling with Sample Size: 1834\n",
                        "Trial 3 for polynomial_sampling with Sample Size: 3669\n",
                        "Trial 3 for polynomial_sampling with Sample Size: 5503\n",
                        "Trial 3 for polynomial_sampling with Sample Size: 7338\n",
                        "Trial 3 for polynomial_sampling with Sample Size: 9173\n",
                        "Trial 3 for polynomial_sampling with Sample Size: 11007\n",
                        "Trial 3 for polynomial_sampling with Sample Size: 12842\n",
                        "Trial 3 for polynomial_sampling with Sample Size: 14676\n",
                        "Trial 3 for polynomial_sampling with Sample Size: 16511\n",
                        "Trial 3 for polynomial_sampling with Sample Size: 18346\n",
                        "Trial 4 for polynomial_sampling with Sample Size: 1834\n",
                        "Trial 4 for polynomial_sampling with Sample Size: 3669\n",
                        "Trial 4 for polynomial_sampling with Sample Size: 5503\n",
                        "Trial 4 for polynomial_sampling with Sample Size: 7338\n",
                        "Trial 4 for polynomial_sampling with Sample Size: 9173\n",
                        "Trial 4 for polynomial_sampling with Sample Size: 11007\n",
                        "Trial 4 for polynomial_sampling with Sample Size: 12842\n",
                        "Trial 4 for polynomial_sampling with Sample Size: 14676\n",
                        "Trial 4 for polynomial_sampling with Sample Size: 16511\n",
                        "Trial 4 for polynomial_sampling with Sample Size: 18346\n",
                        "Trial 5 for polynomial_sampling with Sample Size: 1834\n",
                        "Trial 5 for polynomial_sampling with Sample Size: 3669\n",
                        "Trial 5 for polynomial_sampling with Sample Size: 5503\n",
                        "Trial 5 for polynomial_sampling with Sample Size: 7338\n",
                        "Trial 5 for polynomial_sampling with Sample Size: 9173\n"
                    ]
                }
            ],
            "source": [
                "# Sampling Testing Function\n",
                "def testing_graph_methods_sampling(graph, accuracies, times,algo): \n",
                "    exact_netx_result = exact_netx(graph)\n",
                "    exact_triangles = exact_netx_result['triangles']\n",
                "    print(f\"Exact NetworkX Triangles: {exact_triangles}, Time: {exact_netx_result['time']}s\")\n",
                "    total_nodes = len(graph.nodes())\n",
                "    sample_sizes = [int(total_nodes * percentage / 100) for percentage in range(5,55,5) ]\n",
                "    algo_name=algo.__name__\n",
                "    method_accuracies=[0 for sample_size in range(0,len(sample_sizes)+1) ]\n",
                "    method_times=[0 for percentage in range(0,len(sample_sizes)+1)]\n",
                " \n",
                "# create for loop for trials and another for loop for sample size according to sampling; between 5% and 50% in increments of 5% f the sample size given.\n",
                "    # evaluate each method with respective names according to the methods being used\n",
                "    for trial in range(0,10):\n",
                "            # Run 10 trials for the current method and sample size\n",
                "            iteration=0\n",
                "            for sample_size in sample_sizes:\n",
                "                print(f\"Trial {trial} for {algo_name} with Sample Size: {sample_size}\")\n",
                "                result = algo(graph, sample_size)\n",
                "                rel_error = abs(exact_triangles - result['triangles']) / exact_triangles\n",
                "                method_accuracies[iteration]+=rel_error\n",
                "                method_times[iteration]+=result['time']\n",
                "                iteration+=1\n",
                "    #Go over each sample size and average their accuracies and times\n",
                "    for iteration in range(0,10):   \n",
                "      avg_time = method_times[iteration] /10\n",
                "      avg_accuracy=method_accuracies[iteration]/10\n",
                "      accuracies.append((algo_name, sample_sizes[iteration], avg_accuracy))\n",
                "      times.append((algo_name, sample_sizes[iteration], avg_time))\n",
                " \n",
                "accuracies = []\n",
                "times = []\n",
                " \n",
                "fb_graph = nx.read_edgelist('email-Enron.txt', create_using=nx.Graph(), nodetype=int)\n",
                " \n",
                "testing_graph_methods_sampling(fb_graph, accuracies, times,polynomial_sampling)\n",
                "print(\"Accuracies:\", accuracies)\n",
                "print(\"Times:\", times)\n",
                "with open('output_accuracy.csv', 'a', newline='') as csvfile:\n",
                "    writer = csv.writer(csvfile)\n",
                "    writer.writerows(accuracies)\n",
                "with open('output_time.csv', 'a', newline='') as csvfile:\n",
                "    writer = csv.writer(csvfile)\n",
                "    writer.writerows(times)"
            ]
        },
        {
            "cell_type": "code",
            "execution_count": null,
            "metadata": {},
            "outputs": [],
            "source": []
        },
        {
            "cell_type": "code",
            "execution_count": null,
            "metadata": {},
            "outputs": [
                {
                    "name": "stdout",
                    "output_type": "stream",
                    "text": [
                        "Exact NetworkX Triangles: 1612010.0, Time: 0.46753501892089844s\n",
                        "Trial 1 for exact_trace \n",
                        "9672060.0\n",
                        "Trial 2 for exact_trace \n",
                        "9672060.0\n",
                        "Trial 3 for exact_trace \n",
                        "9672060.0\n",
                        "Trial 4 for exact_trace \n",
                        "9672060.0\n",
                        "Trial 5 for exact_trace \n",
                        "9672060.0\n",
                        "Trial 6 for exact_trace \n",
                        "9672060.0\n",
                        "Trial 7 for exact_trace \n",
                        "9672060.0\n",
                        "Trial 8 for exact_trace \n",
                        "9672060.0\n",
                        "Trial 9 for exact_trace \n",
                        "9672060.0\n",
                        "Trial 10 for exact_trace \n",
                        "9672060.0\n",
                        "exact_trace average accuracy: 0.0, average time: 0.7342688083648682s\n",
                        "Accuracies: [('exact_trace', 0.0)]\n",
                        "Times: [('exact_trace', 0.7342688083648682)]\n"
                    ]
                }
            ],
            "source": [
                "#Regular Testing Function\n",
                "def testing_graph_methods_regular(graph, accuracies, times,algo):\n",
                " \n",
                "    exact_netx_result = exact_netx(graph)\n",
                "    exact_triangles = exact_netx_result['triangles']\n",
                "    print(f\"Exact NetworkX Triangles: {exact_triangles}, Time: {exact_netx_result['time']}s\")\n",
                " \n",
                "    total_nodes = len(graph.nodes())\n",
                "    algo_name=algo.__name__\n",
                " \n",
                "# create for loop for trials\n",
                "    method_accuracies = 0\n",
                "    method_times = 0\n",
                "    for trial in range(1, 11):\n",
                "        print(f\"Trial {trial} for {algo_name} \")\n",
                "        result = algo(graph)\n",
                "        rel_error = abs(exact_triangles - result['triangles']) / exact_triangles\n",
                "        method_accuracies+=rel_error\n",
                "        method_times+=result['time']\n",
                "\n",
                "    avg_time = method_times /10\n",
                "    avg_accuracy=method_accuracies/10\n",
                "    accuracies.append((algo_name, avg_accuracy))\n",
                "    times.append((algo_name, avg_time))\n",
                "    print(f\"{algo_name} average accuracy: {avg_accuracy}, average time: {avg_time}s\")\n",
                " \n",
                " \n",
                "accuracies = []\n",
                "times = []\n",
                " \n",
                "fb_graph = nx.read_edgelist('facebook_combined.txt', create_using=nx.Graph(), nodetype=int)\n",
                " \n",
                "testing_graph_methods_regular(fb_graph, accuracies, times,exact_trace)\n",
                " \n",
                "print(\"Accuracies:\", accuracies)\n",
                "print(\"Times:\", times)\n",
                "with open('output.csv', 'a', newline='') as csvfile:\n",
                "    writer = csv.writer(csvfile)\n",
                "    writer.writerows(accuracies)\n",
                "    writer.writerow(\"\\n\")\n",
                "    writer.writerows(times)\n",
                "    writer.writerow(\"\\n\")\n",
                "\n"
            ]
        },
        {
            "cell_type": "code",
            "execution_count": null,
            "metadata": {},
            "outputs": [
                {
                    "name": "stdout",
                    "output_type": "stream",
                    "text": [
                        "[0.24530859 0.25057943 0.24015486 0.1990459  0.19915857 0.2088459\n",
                        " 0.20163612 0.21301234 0.21004272 0.2195612  0.20962932 0.20691581\n",
                        " 0.22012393 0.20946841 0.21066201 0.21263094 0.20079577 0.21162996\n",
                        " 0.21105802 0.2099905  0.21065409 0.21466119 0.21458068 0.23862944\n",
                        " 0.23294578 0.23344841 0.22704117 0.22830691 0.22350662 0.21730747\n",
                        " 0.22131467 0.2191256  0.22127376 0.22176316 0.21374876 0.23416452\n",
                        " 0.25774143 0.25644236 0.26614306 0.24965518 0.2413579  0.25136378\n",
                        " 0.24313612 0.23858867 0.24202986 0.24848781 0.30502751 0.24979346\n",
                        " 0.25331373 0.26804781]\n",
                        "[0.26921638 0.32042628 0.07710842 0.04792411 0.02841071 0.02452508\n",
                        " 0.00816608 0.01449359 0.00938433 0.01129616 0.0094052  0.00516472\n",
                        " 0.00573353 0.00410689 0.00480284 0.00464855 0.00473716 0.00284656\n",
                        " 0.00285746 0.0030745  0.00291165 0.00248739 0.00190454 0.00132448\n",
                        " 0.00255576 0.00218236 0.00152007 0.00146685 0.00158205 0.00119873\n",
                        " 0.0017948  0.00131155 0.0012924  0.00093449 0.00133551 0.00071058\n",
                        " 0.0009037  0.00124933 0.00092764 0.00094858 0.00115923 0.00084727\n",
                        " 0.00086008 0.00065236 0.00102046 0.00038927 0.00110699 0.00072548\n",
                        " 0.00056288 0.00050603]\n"
                    ]
                },
                {
                    "data": {
                        "text/plain": [
                            "Text(0, 0.5, 'relative-error')"
                        ]
                    },
                    "execution_count": 20,
                    "metadata": {},
                    "output_type": "execute_result"
                },
                {
                    "data": {
                        "image/png": "[encoded data removed]",
                        "text/plain": [
                            "<Figure size 640x480 with 1 Axes>"
                        ]
                    },
                    "metadata": {},
                    "output_type": "display_data"
                }
            ],
            "source": [
                "fb_graph = nx.read_edgelist('facebook_combined.txt', create_using=nx.Graph(), nodetype=int)\n",
                "mq = 50\n",
                "errors = np.zeros(mq)\n",
                "runtimes = np.zeros(mq)\n",
                "exact_count = exact_netx(fb_graph)['triangles']\n",
                "for num_queries in range(mq):\n",
                "    rel_error = runtime = 0\n",
                "    for i in range(10):\n",
                "        outcome = hutchplusplus(fb_graph, (num_queries+1)*3)\n",
                "        rel_error += np.abs((outcome['triangles'] - exact_count)/exact_count)\n",
                "        runtime += outcome['time']\n",
                "    errors[num_queries] = rel_error/10\n",
                "    runtimes[num_queries] = runtime/10\n",
                "print(runtimes)\n",
                "print(errors)\n",
                "plt.scatter(runtimes, errors*100)\n",
                "plt.xlabel('runtimes')\n",
                "plt.ylabel('relative-error')"
            ]
        },
        {
            "cell_type": "code",
            "execution_count": 4,
            "metadata": {},
            "outputs": [
                {
                    "name": "stdout",
                    "output_type": "stream",
                    "text": [
                        "1.922923152268316\n"
                    ]
                },
                {
                    "data": {
                        "image/png": "[encoded data removed]",
                        "text/plain": [
                            "<Figure size 640x480 with 1 Axes>"
                        ]
                    },
                    "metadata": {},
                    "output_type": "display_data"
                }
            ],
            "source": [
                "fb_graph = nx.read_edgelist('facebook_combined.txt', create_using=nx.Graph(), nodetype=int)\n",
                "degrees=[]\n",
                "triangles=[]\n",
                "for node in fb_graph:\n",
                "  degree=fb_graph.degree(node)\n",
                "  degree=0 if degree<=1 else math.log(degree)\n",
                "  triangle=nx.triangles(fb_graph,node)\n",
                "  triangle=0 if triangle<=1 else math.log(triangle)\n",
                "  degrees.append(degree)\n",
                "  triangles.append(triangle)\n",
                "\n",
                "degrees=np.array(degrees)\n",
                "triangles=np.array(triangles)\n",
                "plt.scatter(degrees,triangles)\n",
                "plt.xlabel('log(degree)')\n",
                "plt.ylabel('log(triangles)')\n",
                "plt.title('degree vs Triangle')\n",
                "b, a = np.polyfit(degrees, triangles, deg=1)\n",
                "print(b)\n",
                "\n",
                "degrees_sample=[]\n",
                "triangles_sample=[]\n",
                "sorted_nodes = sorted(fb_graph.degree, key=lambda x: x[1], reverse=True)\n",
                "num_nodes = len(sorted_nodes)\n",
                "third = num_nodes // 3  # Integer division to get roughly equal parts\n",
                "list1 = sorted_nodes[:third]\n",
                "list2 = sorted_nodes[third:2 * third]\n",
                "list3 = sorted_nodes[2 * third:]\n",
                "sample_size=math.floor(0.05*third)\n",
                "node_sample_1 = random.sample(list1, sample_size)\n",
                "node_sample_2=random.sample(list2, sample_size)\n",
                "node_sample_3=random.sample(list3,sample_size)\n",
                "node_samples=node_sample_1+node_sample_2+node_sample_3\n",
                "for node,degree in node_samples:\n",
                "    degree=0 if degree<=1 else math.log(degree)\n",
                "    triangle=nx.triangles(fb_graph,node)\n",
                "    triangle=0 if triangle<=1 else math.log(triangle)\n",
                "    degrees_sample.append(degree)\n",
                "    triangles_sample.append(triangle)\n",
                "\n",
                "b2,a2=np.polyfit(degrees_sample, triangles_sample, deg=1)\n",
                "\n",
                "# Create sequence of 100 numbers from 0 to 100 \n",
                "xseq = np.linspace(0, 10, num=80)\n",
                "# Plot regression line\n",
                "plt.plot(xseq, a + b * xseq, color=\"k\", lw=2.5)\n",
                "# Create sequence of 100 numbers from 0 to 100 \n",
                "x2seq = np.linspace(0, 10, num=80)\n",
                "# Plot regression line\n",
                "plt.plot(x2seq, a2 + b2 * x2seq, color=\"red\", lw=2.5,linestyle='--')\n",
                "\n",
                "plt.show()"
            ]
        }
    ],
    "metadata": {
        "colab": {
            "provenance": []
        },
        "kernelspec": {
            "display_name": "Python 3 (ipykernel)",
            "language": "python",
            "name": "python3"
        },
        "language_info": {
            "codemirror_mode": {
                "name": "ipython",
                "version": 3
            },
            "file_extension": ".py",
            "mimetype": "text/x-python",
            "name": "python",
            "nbconvert_exporter": "python",
            "pygments_lexer": "ipython3",
            "version": "3.10.6"
        }
    },
    "nbformat": 4,
    "nbformat_minor": 4
}
