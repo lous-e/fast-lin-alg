{
 "cells": [
  {
   "cell_type": "code",
   "execution_count": 2,
   "metadata": {
    "id": "KmnOPlm1_Zdd"
   },
   "outputs": [],
   "source": [
    "import networkx as nx\n",
    "import matplotlib.pyplot as plt\n",
    "import pandas as pd\n",
    "import numpy as np\n",
    "import random\n",
    "import time"
   ]
  },
  {
   "cell_type": "code",
   "execution_count": 3,
   "metadata": {
    "id": "7_A_3AvUxW08"
   },
   "outputs": [],
   "source": [
    "def exact_netx(graph):\n",
    "  start = time.time()\n",
    "  t = sum(nx.triangles(graph).values())/3\n",
    "  end = time.time()\n",
    "  return {\"triangles\": t, \"time\": end - start}"
   ]
  },
  {
   "cell_type": "code",
   "execution_count": 4,
   "metadata": {
    "id": "huHhqhPQN86t"
   },
   "outputs": [],
   "source": [
    "def exact_trace(graph):\n",
    "  start = time.time()\n",
    "  adj_matrix = nx.adjacency_matrix(graph, dtype = np.float64)\n",
    "  adj_matrix_cubed = adj_matrix @ adj_matrix @ adj_matrix\n",
    "  t = adj_matrix_cubed.trace()/6\n",
    "  end = time.time()\n",
    "  return {\"triangles\": t, \"time\": end - start}"
   ]
  },
  {
   "cell_type": "code",
   "execution_count": 5,
   "metadata": {
    "id": "FtTYYA63qt6P"
   },
   "outputs": [],
   "source": [
    "def uniform_sampling(graph, sample_size):\n",
    "  start = time.time()\n",
    "  nodes = list(graph.nodes)\n",
    "  n = len(nodes)\n",
    "  node_sample = random.sample(nodes, sample_size)\n",
    "  sample_t = 0\n",
    "  for node in node_sample:\n",
    "    sample_t += nx.triangles(graph, node)\n",
    "  sample_t /= 3\n",
    "  t = sample_t*n/sample_size\n",
    "  end = time.time()\n",
    "  return {\"triangles\": t, \"time\": end - start}"
   ]
  },
  {
   "cell_type": "code",
   "execution_count": 6,
   "metadata": {
    "id": "NCJYKqJxChh5"
   },
   "outputs": [],
   "source": [
    "def random_sampling_with_degrees(graph, sample_size):\n",
    "  start = time.time()\n",
    "  nodes = []\n",
    "  degrees = []\n",
    "  sum_of_degrees=0\n",
    "  for node in graph:\n",
    "    nodes.append(node)\n",
    "    degree=graph.degree(node)\n",
    "    degrees.append(degree)\n",
    "    sum_of_degrees+=degree\n",
    "  node_sample = random.choices(nodes, weights = degrees, k = sample_size)\n",
    "  sample_t = 0\n",
    "  for node in node_sample:\n",
    "    sample_t += nx.triangles(graph, node)/graph.degree(node)\n",
    "  t = sample_t*sum_of_degrees/3\n",
    "  end = time.time()\n",
    "  return {\"triangles\": t, \"time\": end - start}"
   ]
  },
  {
   "cell_type": "code",
   "execution_count": 7,
   "metadata": {},
   "outputs": [],
   "source": [
    "def hutchplusplus(graph, queries):\n",
    "    start = time.time()\n",
    "    #to fix\n",
    "    #fast operations\n",
    "    #A.A.A.S\n",
    "    adj = nx.adjacency_matrix(graph, dtype = np.float64)\n",
    "    d = adj.shape[0]\n",
    "    S = np.random.choice([1, -1], size = (d, queries/3))\n",
    "    G = np.random.choice([1, -1], size = (d, queries/3))\n",
    "    Q, R = np.linalg.qr(A @ S)\n",
    "    trace = np.trace(np.transpose(Q) @ A @ Q) + 3/queries*(np.trace(np.transpose(G) @ (np.eye(d) - Q @ np.transpose(Q)) @ A @ (np.eye(d) - Q @ np.transpose(Q)) @ G))\n",
    "    t = trace/6\n",
    "    end = time.time()\n",
    "    return {\"triangles\": t, \"time\": end - start}"
   ]
  },
  {
   "cell_type": "code",
   "execution_count": 8,
   "metadata": {},
   "outputs": [],
   "source": [
    "# def lanczos(A, m):\n",
    "#     n = A.shape[0]\n",
    "#     v = [np.random.rand(n)]\n",
    "#     w_prime = [A @ v[0]]\n",
    "#     alpha = [w_prime[0] * v[0]]\n",
    "#     beta = []\n",
    "#     w = [w_prime[0] - alpha[0] @ v[0]]\n",
    "#     for j in range(2, m + 1):\n",
    "#         beta_j = np.linalg.norm(w[-1])\n",
    "#         beta.push(beta_j)\n",
    "#         if beta_j != 0:\n",
    "#             v_j = w[-1]/beta_j\n",
    "#         else:\n",
    "#             v_j = #TODO\n",
    "#         v.push(v_j)\n",
    "#         w_prime.push(A @ v[-1])\n",
    "#         alpha.push(w_prime[-1]*v[-1])\n"
   ]
  },
  {
   "cell_type": "code",
   "execution_count": 9,
   "metadata": {},
   "outputs": [],
   "source": [
    "# def eigenTriangle(graph, sample_size, tol):\n",
    "#   adj_matrix = nx.adjacency_matrix(graph, dtype = np.float64)\n",
    "#   nodes = list(graph.nodes)\n",
    "#   n = len(nodes)\n",
    "#   node_sample = random.sample(nodes, sample_size)\n",
    "#   for node in node_sample:\n",
    "#     lambda_1 = lanczos(A, 1)\n",
    "#     eigen = lambda_1\n",
    "#     i = 2"
   ]
  },
  {
   "cell_type": "code",
   "execution_count": 10,
   "metadata": {
    "colab": {
     "base_uri": "https://localhost:8080/",
     "height": 363
    },
    "id": "XrnWGrP0wsFt",
    "outputId": "54b1b649-671f-4d58-9309-ca178f24dc5c"
   },
   "outputs": [
    {
     "name": "stdout",
     "output_type": "stream",
     "text": [
      "{'triangles': 1612010.0, 'time': 0.3532989025115967}\n",
      "{'triangles': 1612010.0, 'time': 1.4765915870666504}\n",
      "{'triangles': 1733787.4051155115, 'time': 0.23226189613342285}\n",
      "687.2840036187025\n"
     ]
    }
   ],
   "source": [
    "fb = nx.read_edgelist('facebook_combined.txt', create_using = nx.Graph(), nodetype = int)\n",
    "nnodes_fb = fb.number_of_nodes()\n",
    "ntriangles = nx.triangles(fb, 0)\n",
    "exact_networkx_metrics = exact_netx(fb)\n",
    "print(exact_networkx_metrics)\n",
    "exact_trace_metrics = exact_trace(fb)\n",
    "print(exact_trace_metrics)\n",
    "\n",
    "uniform_sampling_metrics = uniform_sampling(fb, 404)\n",
    "print(uniform_sampling_metrics)\n",
    "rel_error = abs(ntriangles - uniform_sampling_metrics['triangles'])/ntriangles\n",
    "print(rel_error)"
     ]
    }
   ],
  "source": [
   "la = nx.read_edgelist('lastfm_asia_edge.csv', create_using = nx.Graph(), nodeType = int)\n",
   "nodes_last = la.number_of_nodes()\n",
   "ntriangles = nx.triangles(la,0)\n",
   "exact_network_metrics = exact_netx(la)\n",
   "print(exact_network_metrics)\n",
   "\n",
   "uniform_sampling_metrics = uniform_sampling(la, 1000)\n",
   "print(uniform_sampling_metrics)\n",
   "rel_error = abs(ntriangles - uniform_sampling_metrics['triangles'])/ntriangles\n",
   "print(rel_error)"
   ]
   },
  {
   "cell_type": "code",
   "execution_count": 12,
   "metadata": {
    "colab": {
     "base_uri": "https://localhost:8080/",
     "height": 232
    },
    "id": "yXBKCWMtaj3g",
    "outputId": "a086eb17-679c-4a24-de16-13795aee77b8"
   },
   "outputs": [],
   "source": [
    "def repeat_weighted(n):\n",
    "    for i in range(n):\n",
    "        weighted_sampling_metrics = random_sampling_with_degrees(fb, 404)\n",
    "        print(weighted_sampling_metrics)\n",
    "        rel_error = abs(ntriangles - weighted_sampling_metrics['triangles'])/ntriangles\n",
    "        print(rel_error)"
   ]
  },
  {
   "cell_type": "code",
   "execution_count": 13,
   "metadata": {},
   "outputs": [
    {
     "name": "stdout",
     "output_type": "stream",
     "text": [
      "{'triangles': 614921014.9410346, 'time': 0.724341630935669}\n",
      "244112.14606630986\n",
      "{'triangles': 676557119.4189767, 'time': 0.7848148345947266}\n",
      "268580.6273993556\n",
      "{'triangles': 592642596.9658948, 'time': 0.7476611137390137}\n",
      "235267.9944286998\n",
      "{'triangles': 674046610.2893785, 'time': 0.7869420051574707}\n",
      "267583.9981299637\n",
      "{'triangles': 653528276.1503797, 'time': 0.8248293399810791}\n",
      "259438.56973020232\n",
      "{'triangles': 649878506.7556567, 'time': 0.7698264122009277}\n",
      "257989.67358303166\n",
      "{'triangles': 651781321.0764931, 'time': 0.7142002582550049}\n",
      "258745.05838685716\n",
      "{'triangles': 684115253.8555274, 'time': 0.6359066963195801}\n",
      "271581.07775130105\n",
      "{'triangles': 630509311.6203885, 'time': 0.5715553760528564}\n",
      "250300.4337516429\n",
      "{'triangles': 640843176.8196899, 'time': 0.5383713245391846}\n",
      "254402.80183393802\n"
     ]
    }
   ],
   "source": [
    "repeat_weighted(10)"
   ]
  }
 ],
 "metadata": {
  "colab": {
   "provenance": []
  },
  "kernelspec": {
   "display_name": "Python 3 (ipykernel)",
   "language": "python",
   "name": "python3"
  },
  "language_info": {
   "codemirror_mode": {
    "name": "ipython",
    "version": 3
   },
   "file_extension": ".py",
   "mimetype": "text/x-python",
   "name": "python",
   "nbconvert_exporter": "python",
   "pygments_lexer": "ipython3",
   "version": "3.11.6"
  }
 },
 "nbformat": 4,
 "nbformat_minor": 4
}
