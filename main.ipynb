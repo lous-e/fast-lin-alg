{
    "cells": [
        {
            "cell_type": "code",
            "execution_count": 1,
            "metadata": {
                "id": "KmnOPlm1_Zdd"
            },
            "outputs": [],
            "source": [
                "import networkx as nx\n",
                "import matplotlib.pyplot as plt\n",
                "from scipy.sparse import csr_matrix\n",
                "import pandas as pd\n",
                "import numpy as np\n",
                "import random\n",
                "import time\n",
                "import csv\n",
                "import math\n",
                "import bisect\n",
                "import random\n",
                "from collections import Counter\n",
                "from collections.abc import Sequence"
            ]
        },
        {
            "cell_type": "code",
            "execution_count": 2,
            "metadata": {
                "id": "7_A_3AvUxW08"
            },
            "outputs": [],
            "source": [
                "def exact_netx(graph):\n",
                "  start = time.time()\n",
                "  t = sum(nx.triangles(graph).values())/3\n",
                "  end = time.time()\n",
                "  return {\"triangles\": t, \"time\": end - start}"
            ]
        },
        {
            "cell_type": "code",
            "execution_count": 3,
            "metadata": {
                "id": "huHhqhPQN86t"
            },
            "outputs": [],
            "source": [
                "def exact_trace(graph):\n",
                "  start = time.time()\n",
                "  adj_matrix = nx.adjacency_matrix(graph, dtype = np.float64)\n",
                "  adj_matrix_cubed = adj_matrix @ adj_matrix @ adj_matrix\n",
                "  print(adj_matrix_cubed.trace())\n",
                "  t = adj_matrix_cubed.trace()/6\n",
                "  end = time.time()\n",
                "  return {\"triangles\": t, \"time\": end - start}"
            ]
        },
        {
            "cell_type": "code",
            "execution_count": 4,
            "metadata": {
                "id": "FtTYYA63qt6P"
            },
            "outputs": [],
            "source": [
                "def uniform_sampling(graph, sample_size):\n",
                "  start = time.time()\n",
                "  nodes = list(graph.nodes)\n",
                "  n = len(nodes)\n",
                "  node_sample = random.sample(nodes, sample_size)\n",
                "  sample_t = 0\n",
                "  for node in node_sample:\n",
                "    sample_t += nx.triangles(graph, node)\n",
                "  sample_t /= 3\n",
                "  t = sample_t*n/sample_size\n",
                "  end = time.time()\n",
                "  return {\"triangles\": t, \"time\": end - start}"
            ]
        },
        {
            "cell_type": "code",
            "execution_count": 5,
            "metadata": {
                "id": "NCJYKqJxChh5"
            },
            "outputs": [],
            "source": [
                "def random_sampling_with_degrees(graph, sample_size):\n",
                "  start = time.time()\n",
                "  nodes = []\n",
                "  degrees = []\n",
                "  sum_of_degrees=0\n",
                "  for node in graph:\n",
                "    nodes.append(node)\n",
                "    degree=graph.degree(node)\n",
                "    degrees.append(degree)\n",
                "    sum_of_degrees+=degree\n",
                "  node_sample = random.choices(nodes, weights = degrees, k = sample_size)\n",
                "  sample_t = 0\n",
                "  for node in node_sample:\n",
                "    sample_t += nx.triangles(graph, node)/graph.degree(node)\n",
                "  t = (sample_t*sum_of_degrees/3)*(1/sample_size)\n",
                "  end = time.time()\n",
                "  return {\"triangles\": t, \"time\": end - start}\n",
                "\n",
                " "
            ]
        },
        {
            "cell_type": "code",
            "execution_count": 6,
            "metadata": {},
            "outputs": [],
            "source": [
                "def random_sampling_without_replacement(graph, sample_size):\n",
                "  start = time.time()\n",
                "  nodes = []\n",
                "  degrees = []\n",
                "  sum_of_degrees=0\n",
                "  for node in graph:\n",
                "    nodes.append(node)\n",
                "    degree=graph.degree(node)\n",
                "    degrees.append(degree)\n",
                "    sum_of_degrees+=degree\n",
                "  node_sample = weighted_sample(nodes, weights = degrees, k = sample_size)\n",
                "  sample_t = 0\n",
                "  for node in node_sample:\n",
                "    sample_t += nx.triangles(graph, node)/graph.degree(node)\n",
                "  t = (sample_t*sum_of_degrees/3)*(1/sample_size)\n",
                "  end = time.time()\n",
                "  return {\"triangles\": t, \"time\": end - start}\n",
                "\n",
                "def weighted_sample(population, weights, k):\n",
                "    return random.sample(WeightedPopulation(population, weights), k)\n",
                "\n",
                "class WeightedPopulation(Sequence):\n",
                "    def __init__(self, population, weights):\n",
                "        assert len(population) == len(weights) > 0\n",
                "        self.population = population\n",
                "        self.cumweights = []\n",
                "        cumsum = 0 # compute cumulative weight\n",
                "        for w in weights:\n",
                "            cumsum += w   \n",
                "            self.cumweights.append(cumsum)  \n",
                "    def __len__(self):\n",
                "        return self.cumweights[-1]\n",
                "    def __getitem__(self, i):\n",
                "        if not 0 <= i < len(self):\n",
                "            raise IndexError(i)\n",
                "        return self.population[bisect.bisect(self.cumweights, i)]\n",
                "  "
            ]
        },
        {
            "cell_type": "code",
            "execution_count": null,
            "metadata": {},
            "outputs": [],
            "source": [
                "#polynomial degree sampling\n",
                "def random_sampling_with_degrees(graph, sample_size):\n",
                "  start = time.time()\n",
                "  nodes = []\n",
                "  degrees = []\n",
                "  sum_of_degrees=0\n",
                "  for node in graph:\n",
                "    nodes.append(node)\n",
                "    degree=graph.degree(node)\n",
                "    degrees.append(degree)\n",
                "    sum_of_degrees+=degree\n",
                "  node_sample = random.choices(nodes, weights = degrees, k = sample_size)\n",
                "  sample_t = 0\n",
                "  for node in node_sample:\n",
                "    sample_t += nx.triangles(graph, node)/graph.degree(node)\n",
                "  t = (sample_t*sum_of_degrees/3)*(1/sample_size)\n",
                "  end = time.time()\n",
                "  return {\"triangles\": t, \"time\": end - start}"
            ]
        },
        {
            "cell_type": "code",
            "execution_count": 7,
            "metadata": {},
            "outputs": [],
            "source": [
                "def hutch(graph, trials):\n",
                "    start = time.time()\n",
                "    adj = nx.adjacency_matrix(graph, dtype = np.float64)\n",
                "    adj = adj.toarray()\n",
                "    d = adj.shape[0]\n",
                "    total = 0\n",
                "    for _ in range(trials):\n",
                "        v = np.random.choice([-1,1], d)\n",
                "        tr = np.transpose(v) @ (adj @ (adj @ (adj @ v)))\n",
                "        total += tr\n",
                "    total/=trials\n",
                "    end = time.time()\n",
                "    return {\"triangles\" : total/6, \"time\": end-start, \"trials\": trials}"
            ]
        },
        {
            "cell_type": "code",
            "execution_count": 8,
            "metadata": {},
            "outputs": [],
            "source": [
                "def hutchplusplus(graph, queries):\n",
                "    start = time.time()\n",
                "    A = nx.adjacency_matrix(graph, dtype = np.float64)\n",
                "    d = A.shape[0]\n",
                "    source = [1, -1]\n",
                "    S = np.random.choice(source, (d, queries//3))\n",
                "    G = np.random.choice(source, (d, queries//3))\n",
                "    def mult(x):\n",
                "        return A @ (A @ (A @ x))\n",
                "    Q, R = np.linalg.qr(mult(S))\n",
                "    term_1 = np.trace(Q.T @ mult(Q))\n",
                "    term_prod = G - Q @ (Q.T @ G)\n",
                "    term_2 = 3/queries*np.trace(term_prod.T @ mult(term_prod))\n",
                "    t = term_1/6 + term_2/6\n",
                "    end = time.time()\n",
                "    return {\"triangles\": t, \"time\": end - start}"
            ]
        },
        {
            "cell_type": "code",
            "execution_count": 9,
            "metadata": {},
            "outputs": [],
            "source": [
                "# def lanczos(A, m):\n",
                "#     n = A.shape[0]\n",
                "#     v = [np.random.rand(n)]\n",
                "#     w_prime = [A @ v[0]]\n",
                "#     alpha = [w_prime[0] * v[0]]\n",
                "#     beta = []\n",
                "#     w = [w_prime[0] - alpha[0] @ v[0]]\n",
                "#     for j in range(2, m + 1):\n",
                "#         beta_j = np.linalg.norm(w[-1])\n",
                "#         beta.push(beta_j)\n",
                "#         if beta_j != 0:\n",
                "#             v_j = w[-1]/beta_j\n",
                "#         else:\n",
                "#             v_j = #TODO\n",
                "#         v.push(v_j)\n",
                "#         w_prime.push(A @ v[-1])\n",
                "#         alpha.push(w_prime[-1]*v[-1])\n"
            ]
        },
        {
            "cell_type": "code",
            "execution_count": 10,
            "metadata": {},
            "outputs": [],
            "source": [
                "# def eigenTriangle(graph, sample_size, tol):\n",
                "#   adj_matrix = nx.adjacency_matrix(graph, dtype = np.float64)\n",
                "#   nodes = list(graph.nodes)\n",
                "#   n = len(nodes)\n",
                "#   node_sample = random.sample(nodes, sample_size)\n",
                "#   for node in node_sample:\n",
                "#     lambda_1 = lanczos(A, 1)\n",
                "#     eigen = lambda_1\n",
                "#     i = 2"
            ]
        },
        {
            "cell_type": "code",
            "execution_count": 11,
            "metadata": {
                "colab": {
                    "base_uri": "https://localhost:8080/",
                    "height": 363
                },
                "id": "XrnWGrP0wsFt",
                "outputId": "54b1b649-671f-4d58-9309-ca178f24dc5c"
            },
            "outputs": [
                {
                    "name": "stdout",
                    "output_type": "stream",
                    "text": [
                        "{'triangles': 1612010.0, 'time': 0.6746501922607422}\n"
                    ]
                }
            ],
            "source": [
                "fb = nx.read_edgelist('facebook_combined.txt', create_using = nx.Graph(), nodetype = int)\n",
                "nnodes_fb = fb.number_of_nodes()\n",
                "ntriangles = nx.triangles(fb, 0)\n",
                "exact_networkx_metrics = exact_netx(fb)\n",
                "print(exact_networkx_metrics)\n",
                "# hutch_count = hutch(fb)\n",
                "# print(hutch_count)\n",
                "# exact_trace_metrics = exact_trace(fb)\n",
                "# print(exact_trace_metrics)\n",
                "\n",
                "# uniform_sampling_metrics = uniform_sampling(fb, 404)\n",
                "# print(uniform_sampling_metrics)\n",
                "# rel_error = abs(ntriangles - uniform_sampling_metrics['triangles'])/ntriangles\n",
                "# print(rel_error)"
            ]
        },
        {
            "cell_type": "code",
            "execution_count": 12,
            "metadata": {
                "colab": {
                    "base_uri": "https://localhost:8080/",
                    "height": 232
                },
                "id": "yXBKCWMtaj3g",
                "outputId": "a086eb17-679c-4a24-de16-13795aee77b8"
            },
            "outputs": [],
            "source": [
                "def repeat_weighted(n):\n",
                "    for i in range(n):\n",
                "        weighted_sampling_metrics = random_sampling_with_degrees(fb, 404)\n",
                "        print(weighted_sampling_metrics)\n",
                "        rel_error = abs(ntriangles - weighted_sampling_metrics['triangles'])/ntriangles\n",
                "        print(rel_error)"
            ]
        },
        {
            "cell_type": "code",
            "execution_count": 16,
            "metadata": {},
            "outputs": [
                {
                    "name": "stdout",
                    "output_type": "stream",
                    "text": [
                        "Exact NetworkX Triangles: 1612010.0, Time: 1.0205802917480469s\n",
                        "Trial 0 for random_sampling_without_replacement with Sample Size: 201\n",
                        "Trial 0 for random_sampling_without_replacement with Sample Size: 403\n",
                        "Trial 0 for random_sampling_without_replacement with Sample Size: 605\n",
                        "Trial 0 for random_sampling_without_replacement with Sample Size: 807\n"
                    ]
                },
                {
                    "ename": "KeyboardInterrupt",
                    "evalue": "",
                    "output_type": "error",
                    "traceback": [
                        "\u001b[1;31m---------------------------------------------------------------------------\u001b[0m",
                        "\u001b[1;31mKeyboardInterrupt\u001b[0m                         Traceback (most recent call last)",
                        "Cell \u001b[1;32mIn[16], line 38\u001b[0m\n\u001b[0;32m     34\u001b[0m times \u001b[38;5;241m=\u001b[39m []\n\u001b[0;32m     36\u001b[0m fb_graph \u001b[38;5;241m=\u001b[39m nx\u001b[38;5;241m.\u001b[39mread_edgelist(\u001b[38;5;124m'\u001b[39m\u001b[38;5;124mfacebook_combined.txt\u001b[39m\u001b[38;5;124m'\u001b[39m, create_using\u001b[38;5;241m=\u001b[39mnx\u001b[38;5;241m.\u001b[39mGraph(), nodetype\u001b[38;5;241m=\u001b[39m\u001b[38;5;28mint\u001b[39m)\n\u001b[1;32m---> 38\u001b[0m \u001b[43mtesting_graph_methods_sampling\u001b[49m\u001b[43m(\u001b[49m\u001b[43mfb_graph\u001b[49m\u001b[43m,\u001b[49m\u001b[43m \u001b[49m\u001b[43maccuracies\u001b[49m\u001b[43m,\u001b[49m\u001b[43m \u001b[49m\u001b[43mtimes\u001b[49m\u001b[43m,\u001b[49m\u001b[43mrandom_sampling_without_replacement\u001b[49m\u001b[43m)\u001b[49m\n\u001b[0;32m     40\u001b[0m \u001b[38;5;28mprint\u001b[39m(\u001b[38;5;124m\"\u001b[39m\u001b[38;5;124mAccuracies:\u001b[39m\u001b[38;5;124m\"\u001b[39m, accuracies)\n\u001b[0;32m     41\u001b[0m \u001b[38;5;28mprint\u001b[39m(\u001b[38;5;124m\"\u001b[39m\u001b[38;5;124mTimes:\u001b[39m\u001b[38;5;124m\"\u001b[39m, times)\n",
                        "Cell \u001b[1;32mIn[16], line 21\u001b[0m, in \u001b[0;36mtesting_graph_methods_sampling\u001b[1;34m(graph, accuracies, times, algo)\u001b[0m\n\u001b[0;32m     19\u001b[0m \u001b[38;5;28;01mfor\u001b[39;00m sample_size \u001b[38;5;129;01min\u001b[39;00m sample_sizes:\n\u001b[0;32m     20\u001b[0m     \u001b[38;5;28mprint\u001b[39m(\u001b[38;5;124mf\u001b[39m\u001b[38;5;124m\"\u001b[39m\u001b[38;5;124mTrial \u001b[39m\u001b[38;5;132;01m{\u001b[39;00mtrial\u001b[38;5;132;01m}\u001b[39;00m\u001b[38;5;124m for \u001b[39m\u001b[38;5;132;01m{\u001b[39;00malgo_name\u001b[38;5;132;01m}\u001b[39;00m\u001b[38;5;124m with Sample Size: \u001b[39m\u001b[38;5;132;01m{\u001b[39;00msample_size\u001b[38;5;132;01m}\u001b[39;00m\u001b[38;5;124m\"\u001b[39m)\n\u001b[1;32m---> 21\u001b[0m     result \u001b[38;5;241m=\u001b[39m \u001b[43malgo\u001b[49m\u001b[43m(\u001b[49m\u001b[43mgraph\u001b[49m\u001b[43m,\u001b[49m\u001b[43m \u001b[49m\u001b[43msample_size\u001b[49m\u001b[43m)\u001b[49m\n\u001b[0;32m     22\u001b[0m     rel_error \u001b[38;5;241m=\u001b[39m \u001b[38;5;28mabs\u001b[39m(exact_triangles \u001b[38;5;241m-\u001b[39m result[\u001b[38;5;124m'\u001b[39m\u001b[38;5;124mtriangles\u001b[39m\u001b[38;5;124m'\u001b[39m]) \u001b[38;5;241m/\u001b[39m exact_triangles\n\u001b[0;32m     23\u001b[0m     method_accuracies[iteration]\u001b[38;5;241m+\u001b[39m\u001b[38;5;241m=\u001b[39mrel_error\n",
                        "Cell \u001b[1;32mIn[6], line 14\u001b[0m, in \u001b[0;36mrandom_sampling_without_replacement\u001b[1;34m(graph, sample_size)\u001b[0m\n\u001b[0;32m     12\u001b[0m sample_t \u001b[38;5;241m=\u001b[39m \u001b[38;5;241m0\u001b[39m\n\u001b[0;32m     13\u001b[0m \u001b[38;5;28;01mfor\u001b[39;00m node \u001b[38;5;129;01min\u001b[39;00m node_sample:\n\u001b[1;32m---> 14\u001b[0m   sample_t \u001b[38;5;241m+\u001b[39m\u001b[38;5;241m=\u001b[39m \u001b[43mnx\u001b[49m\u001b[38;5;241;43m.\u001b[39;49m\u001b[43mtriangles\u001b[49m\u001b[43m(\u001b[49m\u001b[43mgraph\u001b[49m\u001b[43m,\u001b[49m\u001b[43m \u001b[49m\u001b[43mnode\u001b[49m\u001b[43m)\u001b[49m\u001b[38;5;241m/\u001b[39mgraph\u001b[38;5;241m.\u001b[39mdegree(node)\n\u001b[0;32m     15\u001b[0m t \u001b[38;5;241m=\u001b[39m (sample_t\u001b[38;5;241m*\u001b[39msum_of_degrees\u001b[38;5;241m/\u001b[39m\u001b[38;5;241m3\u001b[39m)\u001b[38;5;241m*\u001b[39m(\u001b[38;5;241m1\u001b[39m\u001b[38;5;241m/\u001b[39msample_size)\n\u001b[0;32m     16\u001b[0m end \u001b[38;5;241m=\u001b[39m time\u001b[38;5;241m.\u001b[39mtime()\n",
                        "File \u001b[1;32m<class 'networkx.utils.decorators.argmap'> compilation 13:4\u001b[0m, in \u001b[0;36margmap_triangles_10\u001b[1;34m(G, nodes, backend, **backend_kwargs)\u001b[0m\n\u001b[0;32m      2\u001b[0m \u001b[38;5;28;01mimport\u001b[39;00m \u001b[38;5;21;01mcollections\u001b[39;00m\n\u001b[0;32m      3\u001b[0m \u001b[38;5;28;01mimport\u001b[39;00m \u001b[38;5;21;01mgzip\u001b[39;00m\n\u001b[1;32m----> 4\u001b[0m \u001b[38;5;28;01mimport\u001b[39;00m \u001b[38;5;21;01minspect\u001b[39;00m\n\u001b[0;32m      5\u001b[0m \u001b[38;5;28;01mimport\u001b[39;00m \u001b[38;5;21;01mitertools\u001b[39;00m\n\u001b[0;32m      6\u001b[0m \u001b[38;5;28;01mimport\u001b[39;00m \u001b[38;5;21;01mre\u001b[39;00m\n",
                        "File \u001b[1;32mc:\\Users\\riddh\\AppData\\Local\\Programs\\Python\\Python310\\lib\\site-packages\\networkx\\utils\\backends.py:412\u001b[0m, in \u001b[0;36m_dispatch.__call__\u001b[1;34m(self, backend, *args, **kwargs)\u001b[0m\n\u001b[0;32m    409\u001b[0m \u001b[38;5;28;01mdef\u001b[39;00m \u001b[38;5;21m__call__\u001b[39m(\u001b[38;5;28mself\u001b[39m, \u001b[38;5;241m/\u001b[39m, \u001b[38;5;241m*\u001b[39margs, backend\u001b[38;5;241m=\u001b[39m\u001b[38;5;28;01mNone\u001b[39;00m, \u001b[38;5;241m*\u001b[39m\u001b[38;5;241m*\u001b[39mkwargs):\n\u001b[0;32m    410\u001b[0m     \u001b[38;5;28;01mif\u001b[39;00m \u001b[38;5;129;01mnot\u001b[39;00m backends:\n\u001b[0;32m    411\u001b[0m         \u001b[38;5;66;03m# Fast path if no backends are installed\u001b[39;00m\n\u001b[1;32m--> 412\u001b[0m         \u001b[38;5;28;01mreturn\u001b[39;00m \u001b[38;5;28mself\u001b[39m\u001b[38;5;241m.\u001b[39morig_func(\u001b[38;5;241m*\u001b[39margs, \u001b[38;5;241m*\u001b[39m\u001b[38;5;241m*\u001b[39mkwargs)\n\u001b[0;32m    414\u001b[0m     \u001b[38;5;66;03m# Use `backend_name` in this function instead of `backend`\u001b[39;00m\n\u001b[0;32m    415\u001b[0m     backend_name \u001b[38;5;241m=\u001b[39m backend\n",
                        "File \u001b[1;32mc:\\Users\\riddh\\AppData\\Local\\Programs\\Python\\Python310\\lib\\site-packages\\networkx\\algorithms\\cluster.py:60\u001b[0m, in \u001b[0;36mtriangles\u001b[1;34m(G, nodes)\u001b[0m\n\u001b[0;32m     57\u001b[0m \u001b[38;5;28;01mif\u001b[39;00m nodes \u001b[38;5;129;01mis\u001b[39;00m \u001b[38;5;129;01mnot\u001b[39;00m \u001b[38;5;28;01mNone\u001b[39;00m:\n\u001b[0;32m     58\u001b[0m     \u001b[38;5;66;03m# If `nodes` represents a single node, return only its number of triangles\u001b[39;00m\n\u001b[0;32m     59\u001b[0m     \u001b[38;5;28;01mif\u001b[39;00m nodes \u001b[38;5;129;01min\u001b[39;00m G:\n\u001b[1;32m---> 60\u001b[0m         \u001b[38;5;28;01mreturn\u001b[39;00m \u001b[38;5;28;43mnext\u001b[39;49m\u001b[43m(\u001b[49m\u001b[43m_triangles_and_degree_iter\u001b[49m\u001b[43m(\u001b[49m\u001b[43mG\u001b[49m\u001b[43m,\u001b[49m\u001b[43m \u001b[49m\u001b[43mnodes\u001b[49m\u001b[43m)\u001b[49m\u001b[43m)\u001b[49m[\u001b[38;5;241m2\u001b[39m] \u001b[38;5;241m/\u001b[39m\u001b[38;5;241m/\u001b[39m \u001b[38;5;241m2\u001b[39m\n\u001b[0;32m     62\u001b[0m     \u001b[38;5;66;03m# if `nodes` is a container of nodes, then return a\u001b[39;00m\n\u001b[0;32m     63\u001b[0m     \u001b[38;5;66;03m# dictionary mapping node to number of triangles.\u001b[39;00m\n\u001b[0;32m     64\u001b[0m     \u001b[38;5;28;01mreturn\u001b[39;00m {v: t \u001b[38;5;241m/\u001b[39m\u001b[38;5;241m/\u001b[39m \u001b[38;5;241m2\u001b[39m \u001b[38;5;28;01mfor\u001b[39;00m v, d, t, _ \u001b[38;5;129;01min\u001b[39;00m _triangles_and_degree_iter(G, nodes)}\n",
                        "File \u001b[1;32mc:\\Users\\riddh\\AppData\\Local\\Programs\\Python\\Python310\\lib\\site-packages\\networkx\\algorithms\\cluster.py:108\u001b[0m, in \u001b[0;36m_triangles_and_degree_iter\u001b[1;34m(G, nodes)\u001b[0m\n\u001b[0;32m    106\u001b[0m \u001b[38;5;28;01mfor\u001b[39;00m v, v_nbrs \u001b[38;5;129;01min\u001b[39;00m nodes_nbrs:\n\u001b[0;32m    107\u001b[0m     vs \u001b[38;5;241m=\u001b[39m \u001b[38;5;28mset\u001b[39m(v_nbrs) \u001b[38;5;241m-\u001b[39m {v}\n\u001b[1;32m--> 108\u001b[0m     gen_degree \u001b[38;5;241m=\u001b[39m \u001b[43mCounter\u001b[49m\u001b[43m(\u001b[49m\u001b[38;5;28;43mlen\u001b[39;49m\u001b[43m(\u001b[49m\u001b[43mvs\u001b[49m\u001b[43m \u001b[49m\u001b[38;5;241;43m&\u001b[39;49m\u001b[43m \u001b[49m\u001b[43m(\u001b[49m\u001b[38;5;28;43mset\u001b[39;49m\u001b[43m(\u001b[49m\u001b[43mG\u001b[49m\u001b[43m[\u001b[49m\u001b[43mw\u001b[49m\u001b[43m]\u001b[49m\u001b[43m)\u001b[49m\u001b[43m \u001b[49m\u001b[38;5;241;43m-\u001b[39;49m\u001b[43m \u001b[49m\u001b[43m{\u001b[49m\u001b[43mw\u001b[49m\u001b[43m}\u001b[49m\u001b[43m)\u001b[49m\u001b[43m)\u001b[49m\u001b[43m \u001b[49m\u001b[38;5;28;43;01mfor\u001b[39;49;00m\u001b[43m \u001b[49m\u001b[43mw\u001b[49m\u001b[43m \u001b[49m\u001b[38;5;129;43;01min\u001b[39;49;00m\u001b[43m \u001b[49m\u001b[43mvs\u001b[49m\u001b[43m)\u001b[49m\n\u001b[0;32m    109\u001b[0m     ntriangles \u001b[38;5;241m=\u001b[39m \u001b[38;5;28msum\u001b[39m(k \u001b[38;5;241m*\u001b[39m val \u001b[38;5;28;01mfor\u001b[39;00m k, val \u001b[38;5;129;01min\u001b[39;00m gen_degree\u001b[38;5;241m.\u001b[39mitems())\n\u001b[0;32m    110\u001b[0m     \u001b[38;5;28;01myield\u001b[39;00m (v, \u001b[38;5;28mlen\u001b[39m(vs), ntriangles, gen_degree)\n",
                        "File \u001b[1;32mc:\\Users\\riddh\\AppData\\Local\\Programs\\Python\\Python310\\lib\\collections\\__init__.py:577\u001b[0m, in \u001b[0;36mCounter.__init__\u001b[1;34m(self, iterable, **kwds)\u001b[0m\n\u001b[0;32m    566\u001b[0m \u001b[38;5;250m\u001b[39m\u001b[38;5;124;03m'''Create a new, empty Counter object.  And if given, count elements\u001b[39;00m\n\u001b[0;32m    567\u001b[0m \u001b[38;5;124;03mfrom an input iterable.  Or, initialize the count from another mapping\u001b[39;00m\n\u001b[0;32m    568\u001b[0m \u001b[38;5;124;03mof elements to their counts.\u001b[39;00m\n\u001b[1;32m   (...)\u001b[0m\n\u001b[0;32m    574\u001b[0m \n\u001b[0;32m    575\u001b[0m \u001b[38;5;124;03m'''\u001b[39;00m\n\u001b[0;32m    576\u001b[0m \u001b[38;5;28msuper\u001b[39m()\u001b[38;5;241m.\u001b[39m\u001b[38;5;21m__init__\u001b[39m()\n\u001b[1;32m--> 577\u001b[0m \u001b[38;5;28mself\u001b[39m\u001b[38;5;241m.\u001b[39mupdate(iterable, \u001b[38;5;241m*\u001b[39m\u001b[38;5;241m*\u001b[39mkwds)\n",
                        "File \u001b[1;32mc:\\Users\\riddh\\AppData\\Local\\Programs\\Python\\Python310\\lib\\collections\\__init__.py:670\u001b[0m, in \u001b[0;36mCounter.update\u001b[1;34m(self, iterable, **kwds)\u001b[0m\n\u001b[0;32m    668\u001b[0m             \u001b[38;5;28msuper\u001b[39m()\u001b[38;5;241m.\u001b[39mupdate(iterable)\n\u001b[0;32m    669\u001b[0m     \u001b[38;5;28;01melse\u001b[39;00m:\n\u001b[1;32m--> 670\u001b[0m         \u001b[43m_count_elements\u001b[49m\u001b[43m(\u001b[49m\u001b[38;5;28;43mself\u001b[39;49m\u001b[43m,\u001b[49m\u001b[43m \u001b[49m\u001b[43miterable\u001b[49m\u001b[43m)\u001b[49m\n\u001b[0;32m    671\u001b[0m \u001b[38;5;28;01mif\u001b[39;00m kwds:\n\u001b[0;32m    672\u001b[0m     \u001b[38;5;28mself\u001b[39m\u001b[38;5;241m.\u001b[39mupdate(kwds)\n",
                        "File \u001b[1;32mc:\\Users\\riddh\\AppData\\Local\\Programs\\Python\\Python310\\lib\\site-packages\\networkx\\algorithms\\cluster.py:108\u001b[0m, in \u001b[0;36m<genexpr>\u001b[1;34m(.0)\u001b[0m\n\u001b[0;32m    106\u001b[0m \u001b[38;5;28;01mfor\u001b[39;00m v, v_nbrs \u001b[38;5;129;01min\u001b[39;00m nodes_nbrs:\n\u001b[0;32m    107\u001b[0m     vs \u001b[38;5;241m=\u001b[39m \u001b[38;5;28mset\u001b[39m(v_nbrs) \u001b[38;5;241m-\u001b[39m {v}\n\u001b[1;32m--> 108\u001b[0m     gen_degree \u001b[38;5;241m=\u001b[39m Counter(\u001b[38;5;28mlen\u001b[39m(vs \u001b[38;5;241m&\u001b[39m (\u001b[38;5;28mset\u001b[39m(G[w]) \u001b[38;5;241m-\u001b[39m {w})) \u001b[38;5;28;01mfor\u001b[39;00m w \u001b[38;5;129;01min\u001b[39;00m vs)\n\u001b[0;32m    109\u001b[0m     ntriangles \u001b[38;5;241m=\u001b[39m \u001b[38;5;28msum\u001b[39m(k \u001b[38;5;241m*\u001b[39m val \u001b[38;5;28;01mfor\u001b[39;00m k, val \u001b[38;5;129;01min\u001b[39;00m gen_degree\u001b[38;5;241m.\u001b[39mitems())\n\u001b[0;32m    110\u001b[0m     \u001b[38;5;28;01myield\u001b[39;00m (v, \u001b[38;5;28mlen\u001b[39m(vs), ntriangles, gen_degree)\n",
                        "\u001b[1;31mKeyboardInterrupt\u001b[0m: "
                    ]
                }
            ],
            "source": [
                "# Sampling Testing Function\n",
                "def testing_graph_methods_sampling(graph, accuracies, times,algo):\n",
                " \n",
                "    exact_netx_result = exact_netx(graph)\n",
                "    exact_triangles = exact_netx_result['triangles']\n",
                "    print(f\"Exact NetworkX Triangles: {exact_triangles}, Time: {exact_netx_result['time']}s\")\n",
                " \n",
                "    total_nodes = len(graph.nodes())\n",
                "    sample_sizes = [int(total_nodes * percentage / 100) for percentage in range(5,55,5) ]\n",
                "    algo_name=algo.__name__\n",
                "    method_accuracies=[0 for sample_size in range(0,len(sample_sizes)+1) ]\n",
                "    method_times=[0 for percentage in range(0,len(sample_sizes)+1)]\n",
                " \n",
                "# create for loop for trials and another for loop for sample size according to sampling; between 5% and 50% in increments of 5% f the sample size given.\n",
                "    # evaluate each method with respective names according to the methods being used\n",
                "    for trial in range(0,10):\n",
                "            # Run 10 trials for the current method and sample size\n",
                "            iteration=0\n",
                "            for sample_size in sample_sizes:\n",
                "                print(f\"Trial {trial} for {algo_name} with Sample Size: {sample_size}\")\n",
                "                result = algo(graph, sample_size)\n",
                "                rel_error = abs(exact_triangles - result['triangles']) / exact_triangles\n",
                "                method_accuracies[iteration]+=rel_error\n",
                "                method_times[iteration]+=result['time']\n",
                "                iteration+=1\n",
                "    #Go over each sample size and average their accuracies and times\n",
                "    for iteration in range(0,10):   \n",
                "      avg_time = method_times[iteration] /10\n",
                "      avg_accuracy=method_accuracies[iteration]/10\n",
                "      accuracies.append((algo_name, sample_sizes[iteration], avg_accuracy))\n",
                "      times.append((algo_name, sample_sizes[iteration], avg_time))\n",
                " \n",
                "accuracies = []\n",
                "times = []\n",
                " \n",
                "fb_graph = nx.read_edgelist('facebook_combined.txt', create_using=nx.Graph(), nodetype=int)\n",
                " \n",
                "testing_graph_methods_sampling(fb_graph, accuracies, times,random_sampling_without_replacement)\n",
                " \n",
                "print(\"Accuracies:\", accuracies)\n",
                "print(\"Times:\", times)\n",
                "with open('output_accuracy.csv', 'a', newline='') as csvfile:\n",
                "    writer = csv.writer(csvfile)\n",
                "    writer.writerows(accuracies)\n",
                "with open('output_time.csv', 'a', newline='') as csvfile:\n",
                "    writer = csv.writer(csvfile)\n",
                "    writer.writerows(times)"
            ]
        },
        {
            "cell_type": "code",
            "execution_count": null,
            "metadata": {},
            "outputs": [],
            "source": []
        },
        {
            "cell_type": "code",
            "execution_count": null,
            "metadata": {},
            "outputs": [
                {
                    "name": "stdout",
                    "output_type": "stream",
                    "text": [
                        "Exact NetworkX Triangles: 1612010.0, Time: 0.46753501892089844s\n",
                        "Trial 1 for exact_trace \n",
                        "9672060.0\n",
                        "Trial 2 for exact_trace \n",
                        "9672060.0\n",
                        "Trial 3 for exact_trace \n",
                        "9672060.0\n",
                        "Trial 4 for exact_trace \n",
                        "9672060.0\n",
                        "Trial 5 for exact_trace \n",
                        "9672060.0\n",
                        "Trial 6 for exact_trace \n",
                        "9672060.0\n",
                        "Trial 7 for exact_trace \n",
                        "9672060.0\n",
                        "Trial 8 for exact_trace \n",
                        "9672060.0\n",
                        "Trial 9 for exact_trace \n",
                        "9672060.0\n",
                        "Trial 10 for exact_trace \n",
                        "9672060.0\n",
                        "exact_trace average accuracy: 0.0, average time: 0.7342688083648682s\n",
                        "Accuracies: [('exact_trace', 0.0)]\n",
                        "Times: [('exact_trace', 0.7342688083648682)]\n"
                    ]
                }
            ],
            "source": [
                "#Regular Testing Function\n",
                "def testing_graph_methods_regular(graph, accuracies, times,algo):\n",
                " \n",
                "    exact_netx_result = exact_netx(graph)\n",
                "    exact_triangles = exact_netx_result['triangles']\n",
                "    print(f\"Exact NetworkX Triangles: {exact_triangles}, Time: {exact_netx_result['time']}s\")\n",
                " \n",
                "    total_nodes = len(graph.nodes())\n",
                "    algo_name=algo.__name__\n",
                " \n",
                "# create for loop for trials\n",
                "    method_accuracies = 0\n",
                "    method_times = 0\n",
                "    for trial in range(1, 11):\n",
                "        print(f\"Trial {trial} for {algo_name} \")\n",
                "        result = algo(graph)\n",
                "        rel_error = abs(exact_triangles - result['triangles']) / exact_triangles\n",
                "        method_accuracies+=rel_error\n",
                "        method_times+=result['time']\n",
                "\n",
                "    avg_time = method_times /10\n",
                "    avg_accuracy=method_accuracies/10\n",
                "    accuracies.append((algo_name, avg_accuracy))\n",
                "    times.append((algo_name, avg_time))\n",
                "    print(f\"{algo_name} average accuracy: {avg_accuracy}, average time: {avg_time}s\")\n",
                " \n",
                " \n",
                "accuracies = []\n",
                "times = []\n",
                " \n",
                "fb_graph = nx.read_edgelist('facebook_combined.txt', create_using=nx.Graph(), nodetype=int)\n",
                " \n",
                "testing_graph_methods_regular(fb_graph, accuracies, times,exact_trace)\n",
                " \n",
                "print(\"Accuracies:\", accuracies)\n",
                "print(\"Times:\", times)\n",
                "with open('output.csv', 'a', newline='') as csvfile:\n",
                "    writer = csv.writer(csvfile)\n",
                "    writer.writerows(accuracies)\n",
                "    writer.writerow(\"\\n\")\n",
                "    writer.writerows(times)\n",
                "    writer.writerow(\"\\n\")\n",
                "\n"
            ]
        },
        {
            "cell_type": "code",
            "execution_count": null,
            "metadata": {},
            "outputs": [
                {
                    "name": "stdout",
                    "output_type": "stream",
                    "text": [
                        "[0.24530859 0.25057943 0.24015486 0.1990459  0.19915857 0.2088459\n",
                        " 0.20163612 0.21301234 0.21004272 0.2195612  0.20962932 0.20691581\n",
                        " 0.22012393 0.20946841 0.21066201 0.21263094 0.20079577 0.21162996\n",
                        " 0.21105802 0.2099905  0.21065409 0.21466119 0.21458068 0.23862944\n",
                        " 0.23294578 0.23344841 0.22704117 0.22830691 0.22350662 0.21730747\n",
                        " 0.22131467 0.2191256  0.22127376 0.22176316 0.21374876 0.23416452\n",
                        " 0.25774143 0.25644236 0.26614306 0.24965518 0.2413579  0.25136378\n",
                        " 0.24313612 0.23858867 0.24202986 0.24848781 0.30502751 0.24979346\n",
                        " 0.25331373 0.26804781]\n",
                        "[0.26921638 0.32042628 0.07710842 0.04792411 0.02841071 0.02452508\n",
                        " 0.00816608 0.01449359 0.00938433 0.01129616 0.0094052  0.00516472\n",
                        " 0.00573353 0.00410689 0.00480284 0.00464855 0.00473716 0.00284656\n",
                        " 0.00285746 0.0030745  0.00291165 0.00248739 0.00190454 0.00132448\n",
                        " 0.00255576 0.00218236 0.00152007 0.00146685 0.00158205 0.00119873\n",
                        " 0.0017948  0.00131155 0.0012924  0.00093449 0.00133551 0.00071058\n",
                        " 0.0009037  0.00124933 0.00092764 0.00094858 0.00115923 0.00084727\n",
                        " 0.00086008 0.00065236 0.00102046 0.00038927 0.00110699 0.00072548\n",
                        " 0.00056288 0.00050603]\n"
                    ]
                },
                {
                    "data": {
                        "text/plain": [
                            "Text(0, 0.5, 'relative-error')"
                        ]
                    },
                    "execution_count": 20,
                    "metadata": {},
                    "output_type": "execute_result"
                },
                {
                    "data": {
                        "image/png": "[encoded data removed]",
                        "text/plain": [
                            "<Figure size 640x480 with 1 Axes>"
                        ]
                    },
                    "metadata": {},
                    "output_type": "display_data"
                }
            ],
            "source": [
                "fb_graph = nx.read_edgelist('facebook_combined.txt', create_using=nx.Graph(), nodetype=int)\n",
                "mq = 50\n",
                "errors = np.zeros(mq)\n",
                "runtimes = np.zeros(mq)\n",
                "exact_count = exact_netx(fb_graph)['triangles']\n",
                "for num_queries in range(mq):\n",
                "    rel_error = runtime = 0\n",
                "    for i in range(10):\n",
                "        outcome = hutchplusplus(fb_graph, (num_queries+1)*3)\n",
                "        rel_error += np.abs((outcome['triangles'] - exact_count)/exact_count)\n",
                "        runtime += outcome['time']\n",
                "    errors[num_queries] = rel_error/10\n",
                "    runtimes[num_queries] = runtime/10\n",
                "print(runtimes)\n",
                "print(errors)\n",
                "plt.scatter(runtimes, errors*100)\n",
                "plt.xlabel('runtimes')\n",
                "plt.ylabel('relative-error')"
            ]
        },
        {
            "cell_type": "code",
            "execution_count": null,
            "metadata": {},
            "outputs": [
                {
                    "name": "stdout",
                    "output_type": "stream",
                    "text": [
                        "1.922923152268316\n"
                    ]
                },
                {
                    "data": {
                        "image/png": "[encoded data removed]",
                        "text/plain": [
                            "<Figure size 640x480 with 1 Axes>"
                        ]
                    },
                    "metadata": {},
                    "output_type": "display_data"
                }
            ],
            "source": [
                "fb_graph = nx.read_edgelist('facebook_combined.txt', create_using=nx.Graph(), nodetype=int)\n",
                "degrees=[]\n",
                "triangles=[]\n",
                "for node in fb_graph:\n",
                "  degree=fb_graph.degree(node)\n",
                "  degree=0 if degree<=1 else math.log(degree)\n",
                "  triangle=nx.triangles(fb_graph,node)\n",
                "  triangle=0 if triangle<=1 else math.log(triangle)\n",
                "  degrees.append(degree)\n",
                "  triangles.append(triangle)\n",
                "\n",
                "degrees=np.array(degrees)\n",
                "triangles=np.array(triangles)\n",
                "plt.scatter(degrees,triangles)\n",
                "plt.xlabel('log(degree)')\n",
                "plt.ylabel('log(triangles)')\n",
                "plt.title('degree vs Triangle)')\n",
                "b, a = np.polyfit(degrees, triangles, deg=1)\n",
                "print(b)\n",
                "\n",
                "# Create sequence of 100 numbers from 0 to 100 \n",
                "xseq = np.linspace(0, 10, num=80)\n",
                "\n",
                "# Plot regression line\n",
                "plt.plot(xseq, a + b * xseq, color=\"k\", lw=2.5)\n",
                "plt.show()"
            ]
        }
    ],
    "metadata": {
        "colab": {
            "provenance": []
        },
        "kernelspec": {
            "display_name": "Python 3 (ipykernel)",
            "language": "python",
            "name": "python3"
        },
        "language_info": {
            "codemirror_mode": {
                "name": "ipython",
                "version": 3
            },
            "file_extension": ".py",
            "mimetype": "text/x-python",
            "name": "python",
            "nbconvert_exporter": "python",
            "pygments_lexer": "ipython3",
            "version": "3.10.6"
        }
    },
    "nbformat": 4,
    "nbformat_minor": 4
}
