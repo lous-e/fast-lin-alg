{
    "cells": [
        {
            "cell_type": "code",
            "execution_count": 5,
            "metadata": {
                "id": "KmnOPlm1_Zdd"
            },
            "outputs": [],
            "source": [
                "import networkx as nx\n",
                "import matplotlib.pyplot as plt\n",
                "from scipy.sparse import csr_matrix\n",
                "import pandas as pd\n",
                "import numpy as np\n",
                "import random\n",
                "import time"
            ]
        },
        {
            "cell_type": "code",
            "execution_count": 6,
            "metadata": {
                "id": "7_A_3AvUxW08"
            },
            "outputs": [],
            "source": [
                "def exact_netx(graph):\n",
                "  start = time.time()\n",
                "  t = sum(nx.triangles(graph).values())/3\n",
                "  end = time.time()\n",
                "  return {\"triangles\": t, \"time\": end - start}"
            ]
        },
        {
            "cell_type": "code",
            "execution_count": 7,
            "metadata": {
                "id": "huHhqhPQN86t"
            },
            "outputs": [],
            "source": [
                "def exact_trace(graph):\n",
                "  start = time.time()\n",
                "  adj_matrix = nx.adjacency_matrix(graph, dtype = np.float64)\n",
                "  adj_matrix_cubed = adj_matrix @ adj_matrix @ adj_matrix\n",
                "  print(adj_matrix_cubed.trace())\n",
                "  t = adj_matrix_cubed.trace()/6\n",
                "  end = time.time()\n",
                "  return {\"triangles\": t, \"time\": end - start}"
            ]
        },
        {
            "cell_type": "code",
            "execution_count": 8,
            "metadata": {
                "id": "FtTYYA63qt6P"
            },
            "outputs": [],
            "source": [
                "def uniform_sampling(graph, sample_size):\n",
                "  start = time.time()\n",
                "  nodes = list(graph.nodes)\n",
                "  n = len(nodes)\n",
                "  node_sample = random.sample(nodes, sample_size)\n",
                "  sample_t = 0\n",
                "  for node in node_sample:\n",
                "    sample_t += nx.triangles(graph, node)\n",
                "  sample_t /= 3\n",
                "  t = sample_t*n/sample_size\n",
                "  end = time.time()\n",
                "  return {\"triangles\": t, \"time\": end - start}"
            ]
        },
        {
            "cell_type": "code",
            "execution_count": 9,
            "metadata": {
                "id": "NCJYKqJxChh5"
            },
            "outputs": [],
            "source": [
                "def random_sampling_with_degrees(graph, sample_size):\n",
                "  start = time.time()\n",
                "  nodes = []\n",
                "  degrees = []\n",
                "  sum_of_degrees=0\n",
                "  for node in graph:\n",
                "    nodes.append(node)\n",
                "    degree=graph.degree(node)\n",
                "    degrees.append(degree)\n",
                "    sum_of_degrees+=degree\n",
                "  node_sample = random.choices(nodes, weights = degrees, k = sample_size)\n",
                "  sample_t = 0\n",
                "  for node in node_sample:\n",
                "    sample_t += nx.triangles(graph, node)/graph.degree(node)\n",
                "  t = sample_t*sum_of_degrees/3\n",
                "  end = time.time()\n",
                "  return {\"triangles\": t, \"time\": end - start}"
            ]
        },
        {
            "cell_type": "code",
            "execution_count": 14,
            "metadata": {},
            "outputs": [
                {
                    "name": "stderr",
                    "output_type": "stream",
                    "text": [
                        "/var/folders/_n/vvm5blg52gzdnkv4l2twyzb80000gn/T/ipykernel_49530/575711319.py:3: FutureWarning: adjacency_matrix will return a scipy.sparse array instead of a matrix in Networkx 3.0.\n",
                        "  adj_matrix = nx.adjacency_matrix(graph, dtype = np.float64)\n"
                    ]
                },
                {
                    "name": "stdout",
                    "output_type": "stream",
                    "text": [
                        "9672060.0\n",
                        "{'triangles': 1612010.0, 'time': 0.6090710163116455}\n",
                        "{'triangles': 707820.3333333334, 'time': 0.2270040512084961, 'trials': 1}\n",
                        "accuracy0.5609082243079551\n",
                        "{'triangles': 2146017.2424242427, 'time': 0.3250761032104492, 'trials': 11}\n",
                        "accuracy0.3312679464917976\n",
                        "{'triangles': 1479379.3174603174, 'time': 0.524677038192749, 'trials': 21}\n",
                        "accuracy0.08227658794900937\n",
                        "{'triangles': 1372769.6021505378, 'time': 0.6088278293609619, 'trials': 31}\n",
                        "accuracy0.14841123680961174\n",
                        "{'triangles': 1745807.1300813009, 'time': 0.8533947467803955, 'trials': 41}\n",
                        "accuracy0.08300018615349834\n",
                        "{'triangles': 1442487.6274509802, 'time': 0.9216568470001221, 'trials': 51}\n",
                        "accuracy0.10516210975677555\n",
                        "{'triangles': 1768915.7213114754, 'time': 1.0346288681030273, 'trials': 61}\n",
                        "accuracy0.09733545158620317\n",
                        "{'triangles': 1452165.0845070423, 'time': 1.1207869052886963, 'trials': 71}\n",
                        "accuracy0.09915876172787867\n",
                        "{'triangles': 1686286.5226337446, 'time': 1.182945966720581, 'trials': 81}\n",
                        "accuracy0.046076961454174996\n",
                        "{'triangles': 1595960.6849816851, 'time': 1.4501142501831055, 'trials': 91}\n",
                        "accuracy0.009956088993439785\n",
                        "{'triangles': 1404689.1716171617, 'time': 1.7505137920379639, 'trials': 101}\n",
                        "accuracy0.12861013789172418\n",
                        "{'triangles': 1681465.0960960963, 'time': 1.6618068218231201, 'trials': 111}\n",
                        "accuracy0.04308602061779786\n",
                        "{'triangles': 1486426.6749311294, 'time': 1.6553099155426025, 'trials': 121}\n",
                        "accuracy0.07790480522383271\n",
                        "{'triangles': 1839132.2366412214, 'time': 1.8148610591888428, 'trials': 131}\n",
                        "accuracy0.14089381371159077\n",
                        "{'triangles': 1458914.560283688, 'time': 2.0260863304138184, 'trials': 141}\n",
                        "accuracy0.09497176798922594\n",
                        "{'triangles': 1555413.1059602648, 'time': 2.0362751483917236, 'trials': 151}\n",
                        "accuracy0.03510951795567968\n",
                        "{'triangles': 1700302.3623188406, 'time': 2.109792709350586, 'trials': 161}\n",
                        "accuracy0.05477159714818182\n",
                        "{'triangles': 1628663.0545808969, 'time': 2.2633469104766846, 'trials': 171}\n",
                        "accuracy0.010330614934706894\n",
                        "{'triangles': 1767601.9686924492, 'time': 2.6583101749420166, 'trials': 181}\n",
                        "accuracy0.09652047362761344\n",
                        "{'triangles': 1506888.7172774868, 'time': 2.536036968231201, 'trials': 191}\n",
                        "accuracy0.06521130931105464\n",
                        "{'triangles': 1595453.769485904, 'time': 2.6534671783447266, 'trials': 201}\n",
                        "accuracy0.010270550749744789\n",
                        "{'triangles': 1575914.1879936808, 'time': 2.76364803314209, 'trials': 211}\n",
                        "accuracy0.022391804024986927\n",
                        "{'triangles': 1605715.8567119155, 'time': 3.0101370811462402, 'trials': 221}\n",
                        "accuracy0.0039045311679732375\n",
                        "{'triangles': 1613100.9653679654, 'time': 3.312285900115967, 'trials': 231}\n",
                        "accuracy0.0006767733252060473\n",
                        "{'triangles': 1593096.5435684647, 'time': 3.3155691623687744, 'trials': 241}\n",
                        "accuracy0.011732840634695384\n",
                        "{'triangles': 1552126.9707835326, 'time': 3.6205828189849854, 'trials': 251}\n",
                        "accuracy0.037148050704690044\n",
                        "{'triangles': 1570355.9476372926, 'time': 3.6626131534576416, 'trials': 261}\n",
                        "accuracy0.025839822558611576\n",
                        "{'triangles': 1672939.499384994, 'time': 3.850990056991577, 'trials': 271}\n",
                        "accuracy0.03779722172008481\n",
                        "{'triangles': 1578772.8790035585, 'time': 3.8186609745025635, 'trials': 281}\n",
                        "accuracy0.020618433506269476\n",
                        "{'triangles': 1681838.9862542956, 'time': 3.768212080001831, 'trials': 291}\n",
                        "accuracy0.04331796096444536\n"
                    ]
                }
            ],
            "source": [
                "def hutch(graph, trials):\n",
                "    start = time.time()\n",
                "    adj = nx.adjacency_matrix(graph, dtype = np.float64)\n",
                "    adj = adj.toarray()\n",
                "    d = adj.shape[0]\n",
                "    total = 0\n",
                "    for _ in range(trials):\n",
                "        v = np.random.choice([-1,1], d)\n",
                "        tr = np.transpose(v) @ (adj @ (adj @ (adj @ v)))\n",
                "        total += tr\n",
                "    total/=trials\n",
                "    end = time.time()\n",
                "    return {\"triangles\" : total/6, \"time\": end-start, \"trials\": trials}"
            ]
        },
        {
            "cell_type": "code",
            "execution_count": null,
            "metadata": {},
            "outputs": [],
            "source": [
                "def hutchplusplus(graph, queries):\n",
                "    start = time.time()\n",
                "    #to fix\n",
                "    #fast operations\n",
                "    #A.A.A.S\n",
                "    adj = nx.adjacency_matrix(graph, dtype = np.float64)\n",
                "    d = adj.shape[0]\n",
                "    S = np.random.choice([1, -1], size = (d, queries/3))\n",
                "    G = np.random.choice([1, -1], size = (d, queries/3))\n",
                "    Q, R = np.linalg.qr(A @ S)\n",
                "    trace = np.trace(np.transpose(Q) @ A @ Q) + 3/queries*(np.trace(np.transpose(G) @ (np.eye(d) - Q @ np.transpose(Q)) @ A @ (np.eye(d) - Q @ np.transpose(Q)) @ G))\n",
                "    t = trace/6\n",
                "    end = time.time()\n",
                "    return {\"triangles\": t, \"time\": end - start}"
            ]
        },
        {
            "cell_type": "code",
            "execution_count": null,
            "metadata": {},
            "outputs": [],
            "source": [
                "# def lanczos(A, m):\n",
                "#     n = A.shape[0]\n",
                "#     v = [np.random.rand(n)]\n",
                "#     w_prime = [A @ v[0]]\n",
                "#     alpha = [w_prime[0] * v[0]]\n",
                "#     beta = []\n",
                "#     w = [w_prime[0] - alpha[0] @ v[0]]\n",
                "#     for j in range(2, m + 1):\n",
                "#         beta_j = np.linalg.norm(w[-1])\n",
                "#         beta.push(beta_j)\n",
                "#         if beta_j != 0:\n",
                "#             v_j = w[-1]/beta_j\n",
                "#         else:\n",
                "#             v_j = #TODO\n",
                "#         v.push(v_j)\n",
                "#         w_prime.push(A @ v[-1])\n",
                "#         alpha.push(w_prime[-1]*v[-1])\n"
            ]
        },
        {
            "cell_type": "code",
            "execution_count": null,
            "metadata": {},
            "outputs": [],
            "source": [
                "# def eigenTriangle(graph, sample_size, tol):\n",
                "#   adj_matrix = nx.adjacency_matrix(graph, dtype = np.float64)\n",
                "#   nodes = list(graph.nodes)\n",
                "#   n = len(nodes)\n",
                "#   node_sample = random.sample(nodes, sample_size)\n",
                "#   for node in node_sample:\n",
                "#     lambda_1 = lanczos(A, 1)\n",
                "#     eigen = lambda_1\n",
                "#     i = 2"
            ]
        },
        {
            "cell_type": "code",
            "execution_count": 11,
            "metadata": {
                "colab": {
                    "base_uri": "https://localhost:8080/",
                    "height": 363
                },
                "id": "XrnWGrP0wsFt",
                "outputId": "54b1b649-671f-4d58-9309-ca178f24dc5c"
            },
            "outputs": [
                {
                    "name": "stdout",
                    "output_type": "stream",
                    "text": [
                        "{'triangles': 1612010.0, 'time': 2.416633129119873}\n"
                    ]
                }
            ],
            "source": [
                "fb = nx.read_edgelist('facebook_combined.txt', create_using = nx.Graph(), nodetype = int)\n",
                "nnodes_fb = fb.number_of_nodes()\n",
                "ntriangles = nx.triangles(fb, 0)\n",
                "exact_networkx_metrics = exact_netx(fb)\n",
                "print(exact_networkx_metrics)\n",
                "# hutch_count = hutch(fb)\n",
                "# print(hutch_count)\n",
                "# exact_trace_metrics = exact_trace(fb)\n",
                "# print(exact_trace_metrics)\n",
                "\n",
                "# uniform_sampling_metrics = uniform_sampling(fb, 404)\n",
                "# print(uniform_sampling_metrics)\n",
                "# rel_error = abs(ntriangles - uniform_sampling_metrics['triangles'])/ntriangles\n",
                "# print(rel_error)"
            ]
        },
        {
            "cell_type": "code",
            "execution_count": null,
            "metadata": {
                "colab": {
                    "base_uri": "https://localhost:8080/",
                    "height": 232
                },
                "id": "yXBKCWMtaj3g",
                "outputId": "a086eb17-679c-4a24-de16-13795aee77b8"
            },
            "outputs": [],
            "source": [
                "def repeat_weighted(n):\n",
                "    for i in range(n):\n",
                "        weighted_sampling_metrics = random_sampling_with_degrees(fb, 404)\n",
                "        print(weighted_sampling_metrics)\n",
                "        rel_error = abs(ntriangles - weighted_sampling_metrics['triangles'])/ntriangles\n",
                "        print(rel_error)"
            ]
        },
        {
            "cell_type": "code",
            "execution_count": null,
            "metadata": {},
            "outputs": [
                {
                    "name": "stdout",
                    "output_type": "stream",
                    "text": [
                        "{'triangles': 614921014.9410346, 'time': 0.724341630935669}\n",
                        "244112.14606630986\n",
                        "{'triangles': 676557119.4189767, 'time': 0.7848148345947266}\n",
                        "268580.6273993556\n",
                        "{'triangles': 592642596.9658948, 'time': 0.7476611137390137}\n",
                        "235267.9944286998\n",
                        "{'triangles': 674046610.2893785, 'time': 0.7869420051574707}\n",
                        "267583.9981299637\n",
                        "{'triangles': 653528276.1503797, 'time': 0.8248293399810791}\n",
                        "259438.56973020232\n",
                        "{'triangles': 649878506.7556567, 'time': 0.7698264122009277}\n",
                        "257989.67358303166\n",
                        "{'triangles': 651781321.0764931, 'time': 0.7142002582550049}\n",
                        "258745.05838685716\n",
                        "{'triangles': 684115253.8555274, 'time': 0.6359066963195801}\n",
                        "271581.07775130105\n",
                        "{'triangles': 630509311.6203885, 'time': 0.5715553760528564}\n",
                        "250300.4337516429\n",
                        "{'triangles': 640843176.8196899, 'time': 0.5383713245391846}\n",
                        "254402.80183393802\n"
                    ]
                }
            ],
            "source": [
                "repeat_weighted(10)"
            ]
        }
    ],
    "metadata": {
        "colab": {
            "provenance": []
        },
        "kernelspec": {
            "display_name": "Python 3 (ipykernel)",
            "language": "python",
            "name": "python3"
        },
        "language_info": {
            "codemirror_mode": {
                "name": "ipython",
                "version": 3
            },
            "file_extension": ".py",
            "mimetype": "text/x-python",
            "name": "python",
            "nbconvert_exporter": "python",
            "pygments_lexer": "ipython3",
            "version": "3.9.7"
        }
    },
    "nbformat": 4,
    "nbformat_minor": 4
}
