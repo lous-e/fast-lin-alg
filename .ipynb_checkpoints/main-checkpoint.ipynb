{
 "cells": [
  {
   "cell_type": "code",
   "execution_count": 42,
   "metadata": {
    "id": "KmnOPlm1_Zdd"
   },
   "outputs": [],
   "source": [
    "import networkx as nx\n",
    "import matplotlib.pyplot as plt\n",
    "import pandas as pd\n",
    "import numpy as np\n",
    "import random\n",
    "import time"
   ]
  },
  {
   "cell_type": "code",
   "execution_count": 43,
   "metadata": {
    "id": "7_A_3AvUxW08"
   },
   "outputs": [],
   "source": [
    "def exact_netx(graph):\n",
    "  start = time.time()\n",
    "  t = sum(nx.triangles(graph).values())/3\n",
    "  end = time.time()\n",
    "  return {\"triangles\": t, \"time\": end - start}"
   ]
  },
  {
   "cell_type": "code",
   "execution_count": 44,
   "metadata": {
    "id": "huHhqhPQN86t"
   },
   "outputs": [],
   "source": [
    "def exact_trace(graph):\n",
    "  start = time.time()\n",
    "  adj_matrix = nx.adjacency_matrix(graph, dtype = np.float64)\n",
    "  adj_matrix_cubed = adj_matrix @ adj_matrix @ adj_matrix\n",
    "  t = adj_matrix_cubed.trace()/6\n",
    "  end = time.time()\n",
    "  return {\"triangles\": t, \"time\": end - start}"
   ]
  },
  {
   "cell_type": "code",
   "execution_count": 45,
   "metadata": {
    "id": "FtTYYA63qt6P"
   },
   "outputs": [],
   "source": [
    "def uniform_sampling(graph, sample_size):\n",
    "  start = time.time()\n",
    "  nodes = list(graph.nodes)\n",
    "  n = len(nodes)\n",
    "  node_sample = random.sample(nodes, sample_size)\n",
    "  sample_t = 0\n",
    "  for node in node_sample:\n",
    "    sample_t += nx.triangles(graph, node)\n",
    "  sample_t /= 3\n",
    "  t = sample_t*n/sample_size\n",
    "  end = time.time()\n",
    "  return {\"triangles\": t, \"time\": end - start}"
   ]
  },
  {
   "cell_type": "code",
   "execution_count": 94,
   "metadata": {
    "id": "NCJYKqJxChh5"
   },
   "outputs": [],
   "source": [
    "def random_sampling_with_degrees(graph, sample_size):\n",
    "  start = time.time()\n",
    "  nodes = []\n",
    "  degrees = []\n",
    "  sum_of_degrees=0\n",
    "  for node in graph:\n",
    "    nodes.append(node)\n",
    "    degree=graph.degree(node)\n",
    "    degrees.append(degree)\n",
    "    sum_of_degrees+=degree\n",
    "  node_sample = random.choices(nodes, weights = degrees, k = sample_size)\n",
    "  sample_t = 0\n",
    "  for node in node_sample:\n",
    "    sample_t += nx.triangles(graph, node)/graph.degree(node)\n",
    "  t = sample_t*sum_of_degrees/3\n",
    "  end = time.time()\n",
    "  return {\"triangles\": t, \"time\": end - start}"
   ]
  },
  {
   "cell_type": "code",
   "execution_count": 95,
   "metadata": {},
   "outputs": [],
   "source": [
    "def hutchplusplus(graph, queries):\n",
    "    start = time.time()\n",
    "    #to fix\n",
    "    #fast operations\n",
    "    #A.A.A.S\n",
    "    adj = nx.adjacency_matrix(graph, dtype = np.float64)\n",
    "    d = adj.shape[0]\n",
    "    S = np.random.choice([1, -1], size = (d, queries/3))\n",
    "    G = np.random.choice([1, -1], size = (d, queries/3))\n",
    "    Q, R = np.linalg.qr(A @ S)\n",
    "    trace = np.trace(np.transpose(Q) @ A @ Q) + 3/queries*(np.trace(np.transpose(G) @ (np.eye(d) - Q @ np.transpose(Q)) @ A @ (np.eye(d) - Q @ np.transpose(Q)) @ G))\n",
    "    t = trace/6\n",
    "    end = time.time()\n",
    "    return {\"triangles\": t, \"time\": end - start}"
   ]
  },
  {
   "cell_type": "code",
   "execution_count": 96,
   "metadata": {},
   "outputs": [],
   "source": [
    "# def lanczos(A, m):\n",
    "#     n = A.shape[0]\n",
    "#     v = [np.random.rand(n)]\n",
    "#     w_prime = [A @ v[0]]\n",
    "#     alpha = [w_prime[0] * v[0]]\n",
    "#     beta = []\n",
    "#     w = [w_prime[0] - alpha[0] @ v[0]]\n",
    "#     for j in range(2, m + 1):\n",
    "#         beta_j = np.linalg.norm(w[-1])\n",
    "#         beta.push(beta_j)\n",
    "#         if beta_j != 0:\n",
    "#             v_j = w[-1]/beta_j\n",
    "#         else:\n",
    "#             v_j = #TODO\n",
    "#         v.push(v_j)\n",
    "#         w_prime.push(A @ v[-1])\n",
    "#         alpha.push(w_prime[-1]*v[-1])\n"
   ]
  },
  {
   "cell_type": "code",
   "execution_count": 97,
   "metadata": {},
   "outputs": [],
   "source": [
    "# def eigenTriangle(graph, sample_size, tol):\n",
    "#   adj_matrix = nx.adjacency_matrix(graph, dtype = np.float64)\n",
    "#   nodes = list(graph.nodes)\n",
    "#   n = len(nodes)\n",
    "#   node_sample = random.sample(nodes, sample_size)\n",
    "#   for node in node_sample:\n",
    "#     lambda_1 = lanczos(A, 1)\n",
    "#     eigen = lambda_1\n",
    "#     i = 2"
   ]
  },
  {
   "cell_type": "code",
   "execution_count": 98,
   "metadata": {
    "colab": {
     "base_uri": "https://localhost:8080/",
     "height": 363
    },
    "id": "XrnWGrP0wsFt",
    "outputId": "54b1b649-671f-4d58-9309-ca178f24dc5c"
   },
   "outputs": [
    {
     "name": "stdout",
     "output_type": "stream",
     "text": [
      "{'triangles': 1612010.0, 'time': 0.43721938133239746}\n",
      "{'triangles': 1612010.0, 'time': 0.8183493614196777}\n",
      "{'triangles': 1830406.8168316833, 'time': 0.28560328483581543}\n",
      "725.6402607509659\n"
     ]
    }
   ],
   "source": [
    "fb = nx.read_edgelist('facebook_combined.txt', create_using = nx.Graph(), nodetype = int)\n",
    "nnodes_fb = fb.number_of_nodes()\n",
    "ntriangles = nx.triangles(fb, 0)\n",
    "exact_networkx_metrics = exact_netx(fb)\n",
    "print(exact_networkx_metrics)\n",
    "exact_trace_metrics = exact_trace(fb)\n",
    "print(exact_trace_metrics)\n",
    "\n",
    "uniform_sampling_metrics = uniform_sampling(fb, 404)\n",
    "print(uniform_sampling_metrics)\n",
    "rel_error = abs(ntriangles - uniform_sampling_metrics['triangles'])/ntriangles\n",
    "print(rel_error)"
   ]
  },
  {
   "cell_type": "code",
   "execution_count": 100,
   "metadata": {
    "colab": {
     "base_uri": "https://localhost:8080/",
     "height": 232
    },
    "id": "yXBKCWMtaj3g",
    "outputId": "a086eb17-679c-4a24-de16-13795aee77b8"
   },
   "outputs": [],
   "source": [
    "def repeat_weighted(n):\n",
    "    exact_result = exact_netx(graph)
    "    exact_triangles = exact_result['triangles']
    "    for i in range(n):\n",
    "        weighted_sampling_metrics = random_sampling_with_degrees(graph, 404)\n",
    "        print(weighted_sampling_metrics)\n",
    "        rel_error = abs(exact_triangles - weighted_sampling_metrics['triangles'])/exact_triangles\n",
    "        print(f"relative error: {rel_error} ")\n",
    "\n",
   ]
  },
  {
   "cell_type": "code",
   "execution_count": 101,
   "metadata": {},
   "outputs": [
    {
     "name": "stdout",
     "output_type": "stream",
     "text": [
      "{'triangles': 621631040.9044787, 'time': 0.6768379211425781}\n",
      "246775.91183186925\n",
      "{'triangles': 657605440.1592258, 'time': 0.774381160736084}\n",
      "261057.13424344017\n",
      "{'triangles': 639249128.7829014, 'time': 0.7044937610626221}\n",
      "253769.99197415696\n",
      "{'triangles': 658171401.7966571, 'time': 0.691368579864502}\n",
      "261281.8113523847\n",
      "{'triangles': 652335147.0729111, 'time': 0.6714904308319092}\n",
      "258964.91785347802\n",
      "{'triangles': 598105889.5664624, 'time': 0.6081748008728027}\n",
      "237436.82833126732\n",
      "{'triangles': 691602756.6514345, 'time': 0.699460506439209}\n",
      "274553.488547612\n",
      "{'triangles': 675092498.4508089, 'time': 0.7172670364379883}\n",
      "267999.1978764624\n",
      "{'triangles': 658708678.2855368, 'time': 0.6859614849090576}\n",
      "261495.10094701737\n",
      "{'triangles': 668517004.6566324, 'time': 0.7200069427490234}\n",
      "265388.8390856024\n"
     ]
    }
   ],
   "source": [
    "repeat_weighted(10)"
   ]
  }
 ],
 "metadata": {
  "colab": {
   "provenance": []
  },
  "kernelspec": {
   "display_name": "Python 3 (ipykernel)",
   "language": "python",
   "name": "python3"
  },
  "language_info": {
   "codemirror_mode": {
    "name": "ipython",
    "version": 3
   },
   "file_extension": ".py",
   "mimetype": "text/x-python",
   "name": "python",
   "nbconvert_exporter": "python",
   "pygments_lexer": "ipython3",
   "version": "3.11.6"
  }
 },
 "nbformat": 4,
 "nbformat_minor": 4
}
